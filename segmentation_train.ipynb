{
  "cells": [
    {
      "cell_type": "markdown",
      "metadata": {
        "id": "DfPPQ6ztJhv4",
        "cell_id": "9e1849f2f66946da8d6a381ce9844aad",
        "deepnote_cell_type": "markdown"
      },
      "source": [
        "# Mask R-CNN for Bin Picking\n",
        "\n",
        "This notebook is adopted from the [TorchVision 0.3 Object Detection finetuning tutorial](https://pytorch.org/tutorials/intermediate/torchvision_tutorial.html).  We will be finetuning a pre-trained [Mask R-CNN](https://arxiv.org/abs/1703.06870) model on a dataset generated from our \"clutter generator\" script.\n"
      ]
    },
    {
      "cell_type": "code",
      "source": [
        "!pip3 install --update pycocotools"
      ],
      "metadata": {
        "colab": {
          "base_uri": "https://localhost:8080/"
        },
        "id": "ZANCucIqHcxx",
        "outputId": "dec5745d-db7e-45a1-c6e4-072baa31446a"
      },
      "execution_count": null,
      "outputs": [
        {
          "output_type": "stream",
          "name": "stdout",
          "text": [
            "\n",
            "Usage:   \n",
            "  pip3 install [options] <requirement specifier> [package-index-options] ...\n",
            "  pip3 install [options] -r <requirements file> [package-index-options] ...\n",
            "  pip3 install [options] [-e] <vcs project url> ...\n",
            "  pip3 install [options] [-e] <local project path> ...\n",
            "  pip3 install [options] <archive url/path> ...\n",
            "\n",
            "no such option: --update\n"
          ]
        }
      ]
    },
    {
      "cell_type": "code",
      "metadata": {
        "id": "DBIoe_tHTQgV",
        "source_hash": "21c72565",
        "execution_start": 1733617459384,
        "execution_millis": 517518,
        "execution_context_id": "78fdcb9e-974b-424a-81b2-2b5ce586fc9b",
        "cell_id": "2b7ac8d0005e4e979bba5551f8729603",
        "deepnote_cell_type": "code",
        "colab": {
          "base_uri": "https://localhost:8080/"
        },
        "outputId": "6addc1b3-0423-40b9-b3a8-ef68be98240a"
      },
      "source": [
        "!pip install cython\n",
        "# Install pycocotools, the version by default in Colab\n",
        "# has a bug fixed in https://github.com/cocodataset/cocoapi/pull/354\n",
        "!pip install -U 'git+https://github.com/cocodataset/cocoapi.git#subdirectory=PythonAPI'\n",
        "\n",
        "# Download TorchVision repo to use some files from\n",
        "# references/detection\n",
        "!git clone https://github.com/pytorch/vision.git\n",
        "!cd vision && git checkout v0.3.0\n",
        "!cp vision/references/detection/utils.py ./\n",
        "!cp vision/references/detection/transforms.py ./\n",
        "!cp vision/references/detection/coco_eval.py ./\n",
        "!cp vision/references/detection/engine.py ./\n",
        "!cp vision/references/detection/coco_utils.py ./\n"
      ],
      "execution_count": null,
      "outputs": [
        {
          "output_type": "stream",
          "name": "stdout",
          "text": [
            "Requirement already satisfied: cython in /usr/local/lib/python3.10/dist-packages (3.0.11)\n",
            "Collecting git+https://github.com/cocodataset/cocoapi.git#subdirectory=PythonAPI\n",
            "  Cloning https://github.com/cocodataset/cocoapi.git to /tmp/pip-req-build-b4f15wdf\n",
            "  Running command git clone --filter=blob:none --quiet https://github.com/cocodataset/cocoapi.git /tmp/pip-req-build-b4f15wdf\n",
            "  Resolved https://github.com/cocodataset/cocoapi.git to commit 8c9bcc3cf640524c4c20a9c40e89cb6a2f2fa0e9\n",
            "  Preparing metadata (setup.py) ... \u001b[?25l\u001b[?25hdone\n",
            "Requirement already satisfied: setuptools>=18.0 in /usr/local/lib/python3.10/dist-packages (from pycocotools==2.0) (75.1.0)\n",
            "Requirement already satisfied: cython>=0.27.3 in /usr/local/lib/python3.10/dist-packages (from pycocotools==2.0) (3.0.11)\n",
            "Requirement already satisfied: matplotlib>=2.1.0 in /usr/local/lib/python3.10/dist-packages (from pycocotools==2.0) (3.8.0)\n",
            "Requirement already satisfied: contourpy>=1.0.1 in /usr/local/lib/python3.10/dist-packages (from matplotlib>=2.1.0->pycocotools==2.0) (1.3.1)\n",
            "Requirement already satisfied: cycler>=0.10 in /usr/local/lib/python3.10/dist-packages (from matplotlib>=2.1.0->pycocotools==2.0) (0.12.1)\n",
            "Requirement already satisfied: fonttools>=4.22.0 in /usr/local/lib/python3.10/dist-packages (from matplotlib>=2.1.0->pycocotools==2.0) (4.55.1)\n",
            "Requirement already satisfied: kiwisolver>=1.0.1 in /usr/local/lib/python3.10/dist-packages (from matplotlib>=2.1.0->pycocotools==2.0) (1.4.7)\n",
            "Requirement already satisfied: numpy<2,>=1.21 in /usr/local/lib/python3.10/dist-packages (from matplotlib>=2.1.0->pycocotools==2.0) (1.26.4)\n",
            "Requirement already satisfied: packaging>=20.0 in /usr/local/lib/python3.10/dist-packages (from matplotlib>=2.1.0->pycocotools==2.0) (24.2)\n",
            "Requirement already satisfied: pillow>=6.2.0 in /usr/local/lib/python3.10/dist-packages (from matplotlib>=2.1.0->pycocotools==2.0) (11.0.0)\n",
            "Requirement already satisfied: pyparsing>=2.3.1 in /usr/local/lib/python3.10/dist-packages (from matplotlib>=2.1.0->pycocotools==2.0) (3.2.0)\n",
            "Requirement already satisfied: python-dateutil>=2.7 in /usr/local/lib/python3.10/dist-packages (from matplotlib>=2.1.0->pycocotools==2.0) (2.8.2)\n",
            "Requirement already satisfied: six>=1.5 in /usr/local/lib/python3.10/dist-packages (from python-dateutil>=2.7->matplotlib>=2.1.0->pycocotools==2.0) (1.16.0)\n",
            "Building wheels for collected packages: pycocotools\n",
            "  Building wheel for pycocotools (setup.py) ... \u001b[?25l\u001b[?25hdone\n",
            "  Created wheel for pycocotools: filename=pycocotools-2.0-cp310-cp310-linux_x86_64.whl size=376057 sha256=cd9992ff03f56f2f5e3b0dbc5975d57b34d0ff85bf3a3f5d762dcd87dadfdb89\n",
            "  Stored in directory: /tmp/pip-ephem-wheel-cache-8f5_mwk1/wheels/39/61/b4/480fbddb4d3d6bc34083e7397bc6f5d1381f79acc68e9f3511\n",
            "Successfully built pycocotools\n",
            "Installing collected packages: pycocotools\n",
            "  Attempting uninstall: pycocotools\n",
            "    Found existing installation: pycocotools 2.0.8\n",
            "    Uninstalling pycocotools-2.0.8:\n",
            "      Successfully uninstalled pycocotools-2.0.8\n",
            "Successfully installed pycocotools-2.0\n",
            "Cloning into 'vision'...\n",
            "remote: Enumerating objects: 586801, done.\u001b[K\n",
            "remote: Counting objects: 100% (34587/34587), done.\u001b[K\n",
            "remote: Compressing objects: 100% (2040/2040), done.\u001b[K\n",
            "remote: Total 586801 (delta 32376), reused 34452 (delta 32303), pack-reused 552214 (from 1)\u001b[K\n",
            "Receiving objects: 100% (586801/586801), 1.10 GiB | 17.93 MiB/s, done.\n",
            "Resolving deltas: 100% (548467/548467), done.\n",
            "Note: switching to 'v0.3.0'.\n",
            "\n",
            "You are in 'detached HEAD' state. You can look around, make experimental\n",
            "changes and commit them, and you can discard any commits you make in this\n",
            "state without impacting any branches by switching back to a branch.\n",
            "\n",
            "If you want to create a new branch to retain commits you create, you may\n",
            "do so (now or later) by using -c with the switch command. Example:\n",
            "\n",
            "  git switch -c <new-branch-name>\n",
            "\n",
            "Or undo this operation with:\n",
            "\n",
            "  git switch -\n",
            "\n",
            "Turn off this advice by setting config variable advice.detachedHead to false\n",
            "\n",
            "HEAD is now at be376084d8 version check against PyTorch's CUDA version\n"
          ]
        }
      ]
    },
    {
      "cell_type": "code",
      "source": [
        "# Imports\n",
        "import fnmatch\n",
        "import json\n",
        "import os\n",
        "\n",
        "import matplotlib.pyplot as plt\n",
        "import numpy as np\n",
        "import torch\n",
        "import torch.utils.data\n",
        "from PIL import Image\n",
        "\n",
        "ycb = [\n",
        "    \"003_cracker_box.sdf\",\n",
        "    \"004_sugar_box.sdf\",\n",
        "    \"005_tomato_soup_can.sdf\",\n",
        "    \"006_mustard_bottle.sdf\",\n",
        "    \"009_gelatin_box.sdf\",\n",
        "    \"010_potted_meat_can.sdf\",\n",
        "    \"011_cup.sdf\",\n",
        "    \"012_ball.sdf\",\n",
        "]\n",
        "\n",
        "# drake_reserved_labels = [32765, 32764, 32766, 32767]\n",
        "\n",
        "\n",
        "def colorize_labels(image):\n",
        "    \"\"\"Colorizes labels.\"\"\"\n",
        "    cc = mpl.colors.ColorConverter()\n",
        "    color_cycle = plt.rcParams[\"axes.prop_cycle\"]\n",
        "    colors = np.array([cc.to_rgb(c[\"color\"]) for c in color_cycle])\n",
        "    bg_color = [0, 0, 0]\n",
        "    image = np.squeeze(image)\n",
        "    background = np.zeros(image.shape[:2], dtype=bool)\n",
        "    for label in reserved_labels:\n",
        "        background |= image == int(label)\n",
        "    image[np.logical_not(background)]\n",
        "    color_image = colors[image % len(colors)]\n",
        "    color_image[background] = bg_color\n",
        "    return color_image"
      ],
      "metadata": {
        "id": "n6Cz2sLPmtaC"
      },
      "execution_count": null,
      "outputs": []
    },
    {
      "cell_type": "markdown",
      "metadata": {
        "id": "XwyE5A8DGtct",
        "cell_id": "9a4a897f0ebc4e019f83ab7c972ce145",
        "deepnote_cell_type": "markdown"
      },
      "source": [
        "# Download our bin-picking dataset\n",
        "\n",
        "It's definitely possible to actually create this dataset on Colab; I've just written a version of the \"clutter_gen\" method from the last chapter that writes the images (and label images) to disk, along with some annotations.  But it takes a non-trivial amount of time to generate 10,000 images.\n"
      ]
    },
    {
      "cell_type": "code",
      "metadata": {
        "id": "_DgAgqauIET9",
        "source_hash": "c8351775",
        "execution_start": 1733617976951,
        "execution_millis": 1310922,
        "execution_context_id": "78fdcb9e-974b-424a-81b2-2b5ce586fc9b",
        "cell_id": "bed983de4c3b410cb48e2c9d130e792f",
        "deepnote_cell_type": "code"
      },
      "source": [
        "# dataset_path = \"clutter_maskrcnn_data\"\n",
        "# if not os.path.exists(dataset_path):\n",
        "#     !wget https://groups.csail.mit.edu/locomotion/clutter_maskrcnn_data.zip .\n",
        "!unzip -q clutter_maskrcnn_data.zip"
      ],
      "execution_count": null,
      "outputs": []
    },
    {
      "cell_type": "markdown",
      "metadata": {
        "id": "xA8sBvuHNNH1",
        "cell_id": "523bd875c6e3490398c9582923f55424",
        "deepnote_cell_type": "markdown"
      },
      "source": [
        "If you are on colab, go ahead and use the file browser on the left (looks like a drive under the table of contents panel) to click through the .png and .json files to make sure you understand the dataset you've just created!  If you're on a local machine, just browse to the folder."
      ]
    },
    {
      "cell_type": "markdown",
      "metadata": {
        "id": "C9Ee5NV54Dmj",
        "cell_id": "9af06b42728a4bb884b243847f9188b6",
        "deepnote_cell_type": "markdown"
      },
      "source": [
        "# Teach pytorch how to load the dataset\n",
        "\n",
        "into the [format expected by Mask R-CNN](https://pytorch.org/docs/stable/torchvision/models.html#torchvision.models.detection.maskrcnn_resnet50_fpn)."
      ]
    },
    {
      "cell_type": "code",
      "metadata": {
        "id": "mTgWtixZTs3X",
        "source_hash": "733270ce",
        "execution_start": 1733619428455,
        "execution_millis": 1,
        "execution_context_id": "78fdcb9e-974b-424a-81b2-2b5ce586fc9b",
        "cell_id": "f9f7c4a1cf954b9fa7d4eab47fc0a7b3",
        "deepnote_cell_type": "code"
      },
      "source": [
        "class BinPickingDataset(torch.utils.data.Dataset):\n",
        "    def __init__(self, root, transforms=None):\n",
        "        self.root = root\n",
        "        self.num_images = len(fnmatch.filter(os.listdir(root), \"*.png\"))\n",
        "        self.transforms = transforms\n",
        "\n",
        "    def __getitem__(self, idx):\n",
        "        filename_base = os.path.join(self.root, f\"{idx:05d}\")\n",
        "\n",
        "        img = Image.open(filename_base + \".png\").convert(\"RGB\")\n",
        "        mask = np.squeeze(np.load(filename_base + \"_mask.npy\"))\n",
        "\n",
        "        if idx > 9999:\n",
        "          mask[mask == 1] = 2\n",
        "\n",
        "        with open(filename_base + \".json\", \"r\") as f:\n",
        "            instance_id_to_class_name = json.load(f)\n",
        "        labels = ycb == instance_id_to_class_name\n",
        "\n",
        "        # instances are encoded as different colors\n",
        "        obj_ids = np.asarray(list(instance_id_to_class_name.keys()))\n",
        "        count = (mask == np.int16(obj_ids)[:, None, None]).sum(axis=2).sum(axis=1)\n",
        "\n",
        "        # discard objects instances with less than 10 pixels\n",
        "        obj_ids = obj_ids[count >= 10]\n",
        "\n",
        "        labels = [ycb.index(instance_id_to_class_name[id] + \".sdf\") for id in obj_ids]\n",
        "        obj_ids = np.int16(np.asarray(obj_ids))\n",
        "\n",
        "        # split the color-encoded mask into a set of binary masks\n",
        "        masks = mask == obj_ids[:, None, None]\n",
        "\n",
        "        # get bounding box coordinates for each mask\n",
        "        num_objs = len(obj_ids)\n",
        "        boxes = []\n",
        "        for i in range(num_objs):\n",
        "            pos = np.where(masks[i])\n",
        "            xmin = np.min(pos[1])\n",
        "            xmax = np.max(pos[1])\n",
        "            ymin = np.min(pos[0])\n",
        "            ymax = np.max(pos[0])\n",
        "            boxes.append([xmin, ymin, xmax, ymax])\n",
        "\n",
        "        boxes = torch.as_tensor(boxes, dtype=torch.float32)\n",
        "        labels = torch.as_tensor(labels, dtype=torch.int64)\n",
        "        masks = torch.as_tensor(masks, dtype=torch.uint8)\n",
        "\n",
        "        image_id = torch.tensor([idx])\n",
        "        area = (boxes[:, 3] - boxes[:, 1]) * (boxes[:, 2] - boxes[:, 0])\n",
        "        # suppose all instances are not crowd\n",
        "        iscrowd = torch.zeros((num_objs,), dtype=torch.int64)\n",
        "\n",
        "        target = {}\n",
        "        target[\"boxes\"] = boxes\n",
        "        target[\"labels\"] = labels\n",
        "        target[\"masks\"] = masks\n",
        "        target[\"image_id\"] = image_id\n",
        "        target[\"area\"] = area\n",
        "        target[\"iscrowd\"] = iscrowd\n",
        "\n",
        "        if self.transforms is not None:\n",
        "            img, target = self.transforms(img, target)\n",
        "\n",
        "        return img, target\n",
        "\n",
        "    def __len__(self):\n",
        "        return self.num_images"
      ],
      "execution_count": null,
      "outputs": []
    },
    {
      "cell_type": "markdown",
      "metadata": {
        "id": "J6f3ZOTJ4Km9",
        "cell_id": "d37bb63671554308927485d6784aafe3",
        "deepnote_cell_type": "markdown"
      },
      "source": [
        "Let's check the output of our dataset."
      ]
    },
    {
      "cell_type": "code",
      "source": [
        "dataset_path = \"clutter_maskrcnn_data\"\n",
        "np.set_printoptions(threshold=np.inf)"
      ],
      "metadata": {
        "id": "r-SzUNi7nltt"
      },
      "execution_count": null,
      "outputs": []
    },
    {
      "cell_type": "code",
      "source": [
        "plt.imshow(np.squeeze(np.load(os.path.join(dataset_path, f\"09999_mask.npy\"))))\n",
        "print(np.load(os.path.join(dataset_path, f\"09999_mask.npy\")))"
      ],
      "metadata": {
        "id": "HUGTOTuAu1_l"
      },
      "execution_count": null,
      "outputs": []
    },
    {
      "cell_type": "code",
      "metadata": {
        "id": "ZEARO4B_ye0s",
        "source_hash": "5bc8f59d",
        "execution_start": 1733620024245,
        "execution_millis": 28982,
        "execution_context_id": "78fdcb9e-974b-424a-81b2-2b5ce586fc9b",
        "cell_id": "89f7a600989d4123a773e915a0343371",
        "deepnote_cell_type": "code",
        "colab": {
          "base_uri": "https://localhost:8080/"
        },
        "outputId": "3caa8a7c-a07b-4de9-856b-6806b0a98589"
      },
      "source": [
        "dataset = BinPickingDataset(dataset_path)\n",
        "dataset[10000][1]['masks'].shape"
      ],
      "execution_count": null,
      "outputs": [
        {
          "output_type": "execute_result",
          "data": {
            "text/plain": [
              "torch.Size([1, 480, 640])"
            ]
          },
          "metadata": {},
          "execution_count": 96
        }
      ]
    },
    {
      "cell_type": "markdown",
      "metadata": {
        "id": "xWA2NXwVhV_C",
        "cell_id": "66f98f11f5534599ae67917db4150f0e",
        "deepnote_cell_type": "markdown"
      },
      "source": [
        "# Define the network\n",
        "\n",
        "This cell is where the magic begins to happen.  We load a network that is pre-trained on the COCO dataset, then replace the network head with a new (untrained) network with the right number of outputs for our YCB recognition/segmentation task."
      ]
    },
    {
      "cell_type": "code",
      "metadata": {
        "id": "YjNHjVMOyYlH",
        "cell_id": "87e72b28364241db8ba8bfd1ac369a5e",
        "deepnote_cell_type": "code"
      },
      "source": [
        "import torchvision\n",
        "from torchvision.models.detection import MaskRCNN_ResNet50_FPN_Weights\n",
        "from torchvision.models.detection.faster_rcnn import FastRCNNPredictor\n",
        "from torchvision.models.detection.mask_rcnn import MaskRCNNPredictor\n",
        "\n",
        "\n",
        "def get_instance_segmentation_model(num_classes):\n",
        "    # load an instance segmentation model pre-trained on COCO\n",
        "    model = torchvision.models.detection.maskrcnn_resnet50_fpn(\n",
        "        weights=MaskRCNN_ResNet50_FPN_Weights.DEFAULT\n",
        "    )\n",
        "\n",
        "    # get the number of input features for the classifier\n",
        "    in_features = model.roi_heads.box_predictor.cls_score.in_features\n",
        "    # replace the pre-trained head with a new one\n",
        "    model.roi_heads.box_predictor = FastRCNNPredictor(in_features, num_classes)\n",
        "\n",
        "    # now get the number of input features for the mask classifier\n",
        "    in_features_mask = model.roi_heads.mask_predictor.conv5_mask.in_channels\n",
        "    hidden_layer = 256\n",
        "    # and replace the mask predictor with a new one\n",
        "    model.roi_heads.mask_predictor = MaskRCNNPredictor(\n",
        "        in_features_mask, hidden_layer, num_classes\n",
        "    )\n",
        "\n",
        "    return model"
      ],
      "execution_count": null,
      "outputs": []
    },
    {
      "cell_type": "markdown",
      "metadata": {
        "id": "-WXLwePV5ieP",
        "cell_id": "b12cb81f37be4606bd64b9aab3cd7696",
        "deepnote_cell_type": "markdown"
      },
      "source": [
        "That's it, this will make model be ready to be trained and evaluated on our custom dataset.\n",
        "\n",
        "# Transforms\n",
        "\n",
        "Let's write some helper functions for data augmentation / transformation, which leverages the functions in torchvision `refereces/detection`.\n"
      ]
    },
    {
      "cell_type": "code",
      "metadata": {
        "id": "l79ivkwKy357",
        "cell_id": "07e59e98d66c46aaa14fda09ea48a1ed",
        "deepnote_cell_type": "code"
      },
      "source": [
        "import transforms as T\n",
        "import utils\n",
        "from engine import evaluate, train_one_epoch\n",
        "\n",
        "def get_transform(train):\n",
        "    transforms = []\n",
        "    # converts the image, a PIL image, into a PyTorch Tensor\n",
        "    transforms.append(T.ToTensor())\n",
        "    if train:\n",
        "        # during training, randomly flip the training images\n",
        "        # and ground-truth for data augmentation\n",
        "        transforms.append(T.RandomHorizontalFlip(0.5))\n",
        "    return T.Compose(transforms)"
      ],
      "execution_count": null,
      "outputs": []
    },
    {
      "cell_type": "code",
      "source": [],
      "metadata": {
        "id": "E5DsZ9k0_MZE"
      },
      "execution_count": null,
      "outputs": []
    },
    {
      "cell_type": "markdown",
      "metadata": {
        "id": "FzCLqiZk-sjf",
        "cell_id": "50268fc0b1ca42c189efab44b2c12c3e",
        "deepnote_cell_type": "markdown"
      },
      "source": [
        "Note that we do not need to add a mean/std normalization nor image rescaling in the data transforms, as those are handled internally by the Mask R-CNN model."
      ]
    },
    {
      "cell_type": "markdown",
      "metadata": {
        "id": "3YFJGJxk6XEs",
        "cell_id": "0d5a43221e254b9aa09e6cbc91f4dafa",
        "deepnote_cell_type": "markdown"
      },
      "source": [
        "# Putting everything together\n",
        "\n",
        "We now have the dataset class, the models and the data transforms. Let's instantiate them"
      ]
    },
    {
      "cell_type": "code",
      "metadata": {
        "id": "a5dGaIezze3y",
        "cell_id": "a67f86d1737d41efacb37fa3f277a211",
        "deepnote_cell_type": "code"
      },
      "source": [
        "# use our dataset and defined transformations\n",
        "dataset = BinPickingDataset(dataset_path, get_transform(train=True))\n",
        "dataset_test = BinPickingDataset(dataset_path, get_transform(train=False))\n",
        "\n",
        "# split the dataset in train and test set\n",
        "torch.manual_seed(1)\n",
        "indices = torch.randperm(len(dataset)).tolist()\n",
        "dataset = torch.utils.data.Subset(dataset, indices[:-50])\n",
        "dataset_test = torch.utils.data.Subset(dataset_test, indices[-50:])\n",
        "\n",
        "# define training and validation data loaders\n",
        "data_loader = torch.utils.data.DataLoader(\n",
        "    dataset,\n",
        "    batch_size=2,\n",
        "    shuffle=True,\n",
        "    num_workers=4,\n",
        "    collate_fn=utils.collate_fn,\n",
        ")\n",
        "\n",
        "data_loader_test = torch.utils.data.DataLoader(\n",
        "    dataset_test,\n",
        "    batch_size=1,\n",
        "    shuffle=False,\n",
        "    num_workers=4,\n",
        "    collate_fn=utils.collate_fn,\n",
        ")"
      ],
      "execution_count": null,
      "outputs": []
    },
    {
      "cell_type": "markdown",
      "metadata": {
        "id": "L5yvZUprj4ZN",
        "cell_id": "0136360b215c4a2facd3872f5577efa5",
        "deepnote_cell_type": "markdown"
      },
      "source": [
        "Now let's instantiate the model and the optimizer"
      ]
    },
    {
      "cell_type": "code",
      "metadata": {
        "id": "zoenkCj18C4h",
        "cell_id": "87feb4cb9ef2466c9077a74433323ed7",
        "deepnote_cell_type": "code",
        "colab": {
          "base_uri": "https://localhost:8080/"
        },
        "outputId": "f37ef93f-f8b7-4ab4-f2f3-c05f26395982"
      },
      "source": [
        "device = torch.device(\"cuda\") if torch.cuda.is_available() else torch.device(\"cpu\")\n",
        "\n",
        "num_classes = len(ycb) + 1\n",
        "\n",
        "# get the model using our helper function\n",
        "model = get_instance_segmentation_model(num_classes)\n",
        "# move model to the right device\n",
        "model.to(device)\n",
        "\n",
        "# construct an optimizer\n",
        "params = [p for p in model.parameters() if p.requires_grad]\n",
        "optimizer = torch.optim.SGD(params, lr=0.005, momentum=0.9, weight_decay=0.0005)\n",
        "\n",
        "# and a learning rate scheduler which decreases the learning rate by\n",
        "# 10x every 3 epochs\n",
        "lr_scheduler = torch.optim.lr_scheduler.StepLR(optimizer, step_size=3, gamma=0.1)"
      ],
      "execution_count": null,
      "outputs": [
        {
          "output_type": "stream",
          "name": "stderr",
          "text": [
            "Downloading: \"https://download.pytorch.org/models/maskrcnn_resnet50_fpn_coco-bf2d0c1e.pth\" to /root/.cache/torch/hub/checkpoints/maskrcnn_resnet50_fpn_coco-bf2d0c1e.pth\n",
            "100%|██████████| 170M/170M [00:00<00:00, 190MB/s]\n"
          ]
        }
      ]
    },
    {
      "cell_type": "markdown",
      "metadata": {
        "id": "XAd56lt4kDxc",
        "cell_id": "b9a8243b91a04c1e89eac774807aa58c",
        "deepnote_cell_type": "markdown"
      },
      "source": [
        "And now let's train the model for 10 epochs, evaluating at the end of every epoch."
      ]
    },
    {
      "cell_type": "code",
      "metadata": {
        "id": "at-h4OWK0aoc",
        "cell_id": "60b0749c68c340978d96e1b35b3b2479",
        "deepnote_cell_type": "code",
        "colab": {
          "base_uri": "https://localhost:8080/"
        },
        "outputId": "f7d89f2f-2aca-4b64-fb78-1d430a5392ce"
      },
      "source": [
        "# let's train it for 10 epochs\n",
        "num_epochs = 10\n",
        "\n",
        "for epoch in range(num_epochs):\n",
        "    # evaluate(model, data_loader_test, device=device)\n",
        "    # train for one epoch, printing every 10 iterations\n",
        "    train_one_epoch(model, optimizer, data_loader, device, epoch, print_freq=500)\n",
        "    # update the learning rate\n",
        "    lr_scheduler.step()\n",
        "    # evaluate on the test dataset\n",
        "    evaluate(model, data_loader_test, device=device)"
      ],
      "execution_count": null,
      "outputs": [
        {
          "output_type": "stream",
          "name": "stdout",
          "text": [
            "Epoch: [0]  [   0/5175]  eta: 0:25:22  lr: 0.000010  loss: 1.2122 (1.2122)  loss_classifier: 0.2846 (0.2846)  loss_box_reg: 0.3542 (0.3542)  loss_mask: 0.1343 (0.1343)  loss_objectness: 0.4087 (0.4087)  loss_rpn_box_reg: 0.0304 (0.0304)  time: 0.2941  data: 0.1553  max mem: 3826\n",
            "Epoch: [0]  [ 500/5175]  eta: 0:08:05  lr: 0.002507  loss: 0.3481 (0.4639)  loss_classifier: 0.0749 (0.1337)  loss_box_reg: 0.1272 (0.1903)  loss_mask: 0.0875 (0.1179)  loss_objectness: 0.0008 (0.0123)  loss_rpn_box_reg: 0.0032 (0.0096)  time: 0.1023  data: 0.0072  max mem: 4106\n",
            "Epoch: [0]  [1000/5175]  eta: 0:07:11  lr: 0.005000  loss: 0.2143 (0.3736)  loss_classifier: 0.0425 (0.1019)  loss_box_reg: 0.1016 (0.1539)  loss_mask: 0.0662 (0.0998)  loss_objectness: 0.0021 (0.0098)  loss_rpn_box_reg: 0.0041 (0.0082)  time: 0.1027  data: 0.0076  max mem: 4106\n",
            "Epoch: [0]  [1500/5175]  eta: 0:06:19  lr: 0.005000  loss: 0.2462 (0.3306)  loss_classifier: 0.0523 (0.0866)  loss_box_reg: 0.1031 (0.1358)  loss_mask: 0.0581 (0.0920)  loss_objectness: 0.0008 (0.0081)  loss_rpn_box_reg: 0.0022 (0.0080)  time: 0.1029  data: 0.0074  max mem: 4106\n",
            "Epoch: [0]  [2000/5175]  eta: 0:05:27  lr: 0.005000  loss: 0.1658 (0.2985)  loss_classifier: 0.0336 (0.0758)  loss_box_reg: 0.0638 (0.1221)  loss_mask: 0.0585 (0.0858)  loss_objectness: 0.0004 (0.0068)  loss_rpn_box_reg: 0.0023 (0.0079)  time: 0.1036  data: 0.0074  max mem: 4106\n",
            "Epoch: [0]  [2500/5175]  eta: 0:04:35  lr: 0.005000  loss: 0.1475 (0.2756)  loss_classifier: 0.0295 (0.0678)  loss_box_reg: 0.0606 (0.1113)  loss_mask: 0.0587 (0.0821)  loss_objectness: 0.0011 (0.0066)  loss_rpn_box_reg: 0.0022 (0.0078)  time: 0.1021  data: 0.0075  max mem: 4106\n",
            "Epoch: [0]  [3000/5175]  eta: 0:03:43  lr: 0.005000  loss: 0.1153 (0.2565)  loss_classifier: 0.0185 (0.0617)  loss_box_reg: 0.0415 (0.1028)  loss_mask: 0.0503 (0.0789)  loss_objectness: 0.0006 (0.0058)  loss_rpn_box_reg: 0.0012 (0.0073)  time: 0.1028  data: 0.0074  max mem: 4106\n",
            "Epoch: [0]  [3500/5175]  eta: 0:02:52  lr: 0.005000  loss: 0.1430 (0.2421)  loss_classifier: 0.0253 (0.0571)  loss_box_reg: 0.0534 (0.0964)  loss_mask: 0.0580 (0.0763)  loss_objectness: 0.0004 (0.0052)  loss_rpn_box_reg: 0.0012 (0.0070)  time: 0.1031  data: 0.0076  max mem: 4106\n",
            "Epoch: [0]  [4000/5175]  eta: 0:02:00  lr: 0.005000  loss: 0.1249 (0.2313)  loss_classifier: 0.0226 (0.0537)  loss_box_reg: 0.0392 (0.0918)  loss_mask: 0.0539 (0.0746)  loss_objectness: 0.0002 (0.0047)  loss_rpn_box_reg: 0.0012 (0.0066)  time: 0.1025  data: 0.0073  max mem: 4106\n",
            "Epoch: [0]  [4500/5175]  eta: 0:01:09  lr: 0.005000  loss: 0.1200 (0.2222)  loss_classifier: 0.0192 (0.0509)  loss_box_reg: 0.0410 (0.0879)  loss_mask: 0.0541 (0.0729)  loss_objectness: 0.0002 (0.0043)  loss_rpn_box_reg: 0.0009 (0.0063)  time: 0.1025  data: 0.0073  max mem: 4106\n",
            "Epoch: [0]  [5000/5175]  eta: 0:00:17  lr: 0.005000  loss: 0.1088 (0.2141)  loss_classifier: 0.0183 (0.0483)  loss_box_reg: 0.0398 (0.0843)  loss_mask: 0.0523 (0.0716)  loss_objectness: 0.0002 (0.0040)  loss_rpn_box_reg: 0.0014 (0.0060)  time: 0.1016  data: 0.0073  max mem: 4106\n",
            "Epoch: [0]  [5174/5175]  eta: 0:00:00  lr: 0.005000  loss: 0.1025 (0.2116)  loss_classifier: 0.0186 (0.0475)  loss_box_reg: 0.0333 (0.0830)  loss_mask: 0.0534 (0.0712)  loss_objectness: 0.0004 (0.0039)  loss_rpn_box_reg: 0.0008 (0.0059)  time: 0.1024  data: 0.0073  max mem: 4106\n",
            "Epoch: [0] Total time: 0:08:52 (0.1028 s / it)\n",
            "creating index...\n",
            "index created!\n",
            "Test:  [ 0/50]  eta: 0:00:12  model_time: 0.0757 (0.0757)  evaluator_time: 0.0374 (0.0374)  time: 0.2536  data: 0.1374  max mem: 4106\n",
            "Test:  [49/50]  eta: 0:00:00  model_time: 0.0336 (0.0370)  evaluator_time: 0.0129 (0.0141)  time: 0.0528  data: 0.0044  max mem: 4106\n",
            "Test: Total time: 0:00:03 (0.0609 s / it)\n",
            "Averaged stats: model_time: 0.0336 (0.0370)  evaluator_time: 0.0129 (0.0141)\n",
            "Accumulating evaluation results...\n",
            "DONE (t=0.05s).\n",
            "Accumulating evaluation results...\n",
            "DONE (t=0.05s).\n",
            "IoU metric: bbox\n",
            " Average Precision  (AP) @[ IoU=0.50:0.95 | area=   all | maxDets=100 ] = 0.780\n",
            " Average Precision  (AP) @[ IoU=0.50      | area=   all | maxDets=100 ] = 0.855\n",
            " Average Precision  (AP) @[ IoU=0.75      | area=   all | maxDets=100 ] = 0.846\n",
            " Average Precision  (AP) @[ IoU=0.50:0.95 | area= small | maxDets=100 ] = 0.775\n",
            " Average Precision  (AP) @[ IoU=0.50:0.95 | area=medium | maxDets=100 ] = 0.894\n",
            " Average Precision  (AP) @[ IoU=0.50:0.95 | area= large | maxDets=100 ] = 0.767\n",
            " Average Recall     (AR) @[ IoU=0.50:0.95 | area=   all | maxDets=  1 ] = 0.561\n",
            " Average Recall     (AR) @[ IoU=0.50:0.95 | area=   all | maxDets= 10 ] = 0.796\n",
            " Average Recall     (AR) @[ IoU=0.50:0.95 | area=   all | maxDets=100 ] = 0.796\n",
            " Average Recall     (AR) @[ IoU=0.50:0.95 | area= small | maxDets=100 ] = 0.775\n",
            " Average Recall     (AR) @[ IoU=0.50:0.95 | area=medium | maxDets=100 ] = 0.923\n",
            " Average Recall     (AR) @[ IoU=0.50:0.95 | area= large | maxDets=100 ] = 0.772\n",
            "IoU metric: segm\n",
            " Average Precision  (AP) @[ IoU=0.50:0.95 | area=   all | maxDets=100 ] = 0.827\n",
            " Average Precision  (AP) @[ IoU=0.50      | area=   all | maxDets=100 ] = 0.853\n",
            " Average Precision  (AP) @[ IoU=0.75      | area=   all | maxDets=100 ] = 0.849\n",
            " Average Precision  (AP) @[ IoU=0.50:0.95 | area= small | maxDets=100 ] = 0.800\n",
            " Average Precision  (AP) @[ IoU=0.50:0.95 | area=medium | maxDets=100 ] = 0.943\n",
            " Average Precision  (AP) @[ IoU=0.50:0.95 | area= large | maxDets=100 ] = 0.823\n",
            " Average Recall     (AR) @[ IoU=0.50:0.95 | area=   all | maxDets=  1 ] = 0.590\n",
            " Average Recall     (AR) @[ IoU=0.50:0.95 | area=   all | maxDets= 10 ] = 0.836\n",
            " Average Recall     (AR) @[ IoU=0.50:0.95 | area=   all | maxDets=100 ] = 0.836\n",
            " Average Recall     (AR) @[ IoU=0.50:0.95 | area= small | maxDets=100 ] = 0.800\n",
            " Average Recall     (AR) @[ IoU=0.50:0.95 | area=medium | maxDets=100 ] = 0.965\n",
            " Average Recall     (AR) @[ IoU=0.50:0.95 | area= large | maxDets=100 ] = 0.823\n",
            "Epoch: [1]  [   0/5175]  eta: 0:24:36  lr: 0.005000  loss: 0.1176 (0.1176)  loss_classifier: 0.0260 (0.0260)  loss_box_reg: 0.0409 (0.0409)  loss_mask: 0.0484 (0.0484)  loss_objectness: 0.0003 (0.0003)  loss_rpn_box_reg: 0.0020 (0.0020)  time: 0.2852  data: 0.1730  max mem: 4106\n",
            "Epoch: [1]  [ 500/5175]  eta: 0:07:59  lr: 0.005000  loss: 0.0919 (0.1309)  loss_classifier: 0.0118 (0.0220)  loss_box_reg: 0.0352 (0.0451)  loss_mask: 0.0477 (0.0602)  loss_objectness: 0.0001 (0.0008)  loss_rpn_box_reg: 0.0004 (0.0028)  time: 0.1001  data: 0.0077  max mem: 4106\n",
            "Epoch: [1]  [1000/5175]  eta: 0:07:08  lr: 0.005000  loss: 0.1078 (0.1282)  loss_classifier: 0.0187 (0.0220)  loss_box_reg: 0.0346 (0.0439)  loss_mask: 0.0511 (0.0586)  loss_objectness: 0.0002 (0.0007)  loss_rpn_box_reg: 0.0007 (0.0030)  time: 0.1015  data: 0.0072  max mem: 4106\n",
            "Epoch: [1]  [1500/5175]  eta: 0:06:16  lr: 0.005000  loss: 0.1395 (0.1270)  loss_classifier: 0.0244 (0.0217)  loss_box_reg: 0.0501 (0.0431)  loss_mask: 0.0575 (0.0583)  loss_objectness: 0.0003 (0.0007)  loss_rpn_box_reg: 0.0024 (0.0032)  time: 0.1053  data: 0.0082  max mem: 4106\n",
            "Epoch: [1]  [2000/5175]  eta: 0:05:25  lr: 0.005000  loss: 0.1267 (0.1251)  loss_classifier: 0.0222 (0.0212)  loss_box_reg: 0.0442 (0.0424)  loss_mask: 0.0574 (0.0577)  loss_objectness: 0.0002 (0.0007)  loss_rpn_box_reg: 0.0011 (0.0030)  time: 0.1034  data: 0.0076  max mem: 4106\n",
            "Epoch: [1]  [2500/5175]  eta: 0:04:34  lr: 0.005000  loss: 0.1147 (0.1245)  loss_classifier: 0.0179 (0.0210)  loss_box_reg: 0.0376 (0.0422)  loss_mask: 0.0528 (0.0578)  loss_objectness: 0.0002 (0.0007)  loss_rpn_box_reg: 0.0010 (0.0030)  time: 0.1025  data: 0.0074  max mem: 4106\n",
            "Epoch: [1]  [3000/5175]  eta: 0:03:43  lr: 0.005000  loss: 0.0931 (0.1248)  loss_classifier: 0.0169 (0.0211)  loss_box_reg: 0.0279 (0.0420)  loss_mask: 0.0506 (0.0577)  loss_objectness: 0.0002 (0.0007)  loss_rpn_box_reg: 0.0009 (0.0033)  time: 0.1032  data: 0.0076  max mem: 4106\n",
            "Epoch: [1]  [3500/5175]  eta: 0:02:51  lr: 0.005000  loss: 0.1002 (0.1234)  loss_classifier: 0.0160 (0.0208)  loss_box_reg: 0.0326 (0.0412)  loss_mask: 0.0532 (0.0575)  loss_objectness: 0.0002 (0.0007)  loss_rpn_box_reg: 0.0008 (0.0033)  time: 0.1038  data: 0.0077  max mem: 4106\n",
            "Epoch: [1]  [4000/5175]  eta: 0:02:00  lr: 0.005000  loss: 0.1174 (0.1226)  loss_classifier: 0.0211 (0.0207)  loss_box_reg: 0.0392 (0.0408)  loss_mask: 0.0491 (0.0571)  loss_objectness: 0.0002 (0.0007)  loss_rpn_box_reg: 0.0009 (0.0033)  time: 0.1018  data: 0.0072  max mem: 4106\n",
            "Epoch: [1]  [4500/5175]  eta: 0:01:09  lr: 0.005000  loss: 0.0998 (0.1221)  loss_classifier: 0.0166 (0.0206)  loss_box_reg: 0.0347 (0.0404)  loss_mask: 0.0506 (0.0571)  loss_objectness: 0.0003 (0.0007)  loss_rpn_box_reg: 0.0012 (0.0034)  time: 0.1022  data: 0.0074  max mem: 4106\n",
            "Epoch: [1]  [5000/5175]  eta: 0:00:17  lr: 0.005000  loss: 0.0898 (0.1212)  loss_classifier: 0.0140 (0.0204)  loss_box_reg: 0.0259 (0.0400)  loss_mask: 0.0470 (0.0568)  loss_objectness: 0.0002 (0.0007)  loss_rpn_box_reg: 0.0006 (0.0034)  time: 0.1014  data: 0.0076  max mem: 4106\n",
            "Epoch: [1]  [5174/5175]  eta: 0:00:00  lr: 0.005000  loss: 0.0842 (0.1212)  loss_classifier: 0.0122 (0.0204)  loss_box_reg: 0.0264 (0.0399)  loss_mask: 0.0483 (0.0567)  loss_objectness: 0.0003 (0.0007)  loss_rpn_box_reg: 0.0009 (0.0034)  time: 0.1024  data: 0.0078  max mem: 4106\n",
            "Epoch: [1] Total time: 0:08:51 (0.1028 s / it)\n",
            "creating index...\n",
            "index created!\n",
            "Test:  [ 0/50]  eta: 0:00:12  model_time: 0.0711 (0.0711)  evaluator_time: 0.0370 (0.0370)  time: 0.2489  data: 0.1376  max mem: 4106\n",
            "Test:  [49/50]  eta: 0:00:00  model_time: 0.0319 (0.0358)  evaluator_time: 0.0115 (0.0138)  time: 0.0510  data: 0.0043  max mem: 4106\n",
            "Test: Total time: 0:00:02 (0.0598 s / it)\n",
            "Averaged stats: model_time: 0.0319 (0.0358)  evaluator_time: 0.0115 (0.0138)\n",
            "Accumulating evaluation results...\n",
            "DONE (t=0.05s).\n",
            "Accumulating evaluation results...\n",
            "DONE (t=0.05s).\n",
            "IoU metric: bbox\n",
            " Average Precision  (AP) @[ IoU=0.50:0.95 | area=   all | maxDets=100 ] = 0.795\n",
            " Average Precision  (AP) @[ IoU=0.50      | area=   all | maxDets=100 ] = 0.857\n",
            " Average Precision  (AP) @[ IoU=0.75      | area=   all | maxDets=100 ] = 0.857\n",
            " Average Precision  (AP) @[ IoU=0.50:0.95 | area= small | maxDets=100 ] = 0.776\n",
            " Average Precision  (AP) @[ IoU=0.50:0.95 | area=medium | maxDets=100 ] = 0.923\n",
            " Average Precision  (AP) @[ IoU=0.50:0.95 | area= large | maxDets=100 ] = 0.782\n",
            " Average Recall     (AR) @[ IoU=0.50:0.95 | area=   all | maxDets=  1 ] = 0.571\n",
            " Average Recall     (AR) @[ IoU=0.50:0.95 | area=   all | maxDets= 10 ] = 0.810\n",
            " Average Recall     (AR) @[ IoU=0.50:0.95 | area=   all | maxDets=100 ] = 0.810\n",
            " Average Recall     (AR) @[ IoU=0.50:0.95 | area= small | maxDets=100 ] = 0.775\n",
            " Average Recall     (AR) @[ IoU=0.50:0.95 | area=medium | maxDets=100 ] = 0.944\n",
            " Average Recall     (AR) @[ IoU=0.50:0.95 | area= large | maxDets=100 ] = 0.792\n",
            "IoU metric: segm\n",
            " Average Precision  (AP) @[ IoU=0.50:0.95 | area=   all | maxDets=100 ] = 0.824\n",
            " Average Precision  (AP) @[ IoU=0.50      | area=   all | maxDets=100 ] = 0.857\n",
            " Average Precision  (AP) @[ IoU=0.75      | area=   all | maxDets=100 ] = 0.843\n",
            " Average Precision  (AP) @[ IoU=0.50:0.95 | area= small | maxDets=100 ] = 0.655\n",
            " Average Precision  (AP) @[ IoU=0.50:0.95 | area=medium | maxDets=100 ] = 0.931\n",
            " Average Precision  (AP) @[ IoU=0.50:0.95 | area= large | maxDets=100 ] = 0.826\n",
            " Average Recall     (AR) @[ IoU=0.50:0.95 | area=   all | maxDets=  1 ] = 0.589\n",
            " Average Recall     (AR) @[ IoU=0.50:0.95 | area=   all | maxDets= 10 ] = 0.835\n",
            " Average Recall     (AR) @[ IoU=0.50:0.95 | area=   all | maxDets=100 ] = 0.835\n",
            " Average Recall     (AR) @[ IoU=0.50:0.95 | area= small | maxDets=100 ] = 0.725\n",
            " Average Recall     (AR) @[ IoU=0.50:0.95 | area=medium | maxDets=100 ] = 0.956\n",
            " Average Recall     (AR) @[ IoU=0.50:0.95 | area= large | maxDets=100 ] = 0.826\n",
            "Epoch: [2]  [   0/5175]  eta: 0:28:43  lr: 0.005000  loss: 0.1101 (0.1101)  loss_classifier: 0.0222 (0.0222)  loss_box_reg: 0.0313 (0.0313)  loss_mask: 0.0557 (0.0557)  loss_objectness: 0.0004 (0.0004)  loss_rpn_box_reg: 0.0005 (0.0005)  time: 0.3330  data: 0.2020  max mem: 4106\n",
            "Epoch: [2]  [ 500/5175]  eta: 0:08:00  lr: 0.005000  loss: 0.1064 (0.1135)  loss_classifier: 0.0171 (0.0189)  loss_box_reg: 0.0306 (0.0351)  loss_mask: 0.0550 (0.0553)  loss_objectness: 0.0003 (0.0007)  loss_rpn_box_reg: 0.0016 (0.0034)  time: 0.1035  data: 0.0079  max mem: 4106\n",
            "Epoch: [2]  [1000/5175]  eta: 0:07:09  lr: 0.005000  loss: 0.1099 (0.1177)  loss_classifier: 0.0153 (0.0206)  loss_box_reg: 0.0400 (0.0363)  loss_mask: 0.0534 (0.0565)  loss_objectness: 0.0003 (0.0007)  loss_rpn_box_reg: 0.0012 (0.0035)  time: 0.1033  data: 0.0075  max mem: 4106\n",
            "Epoch: [2]  [1500/5175]  eta: 0:06:17  lr: 0.005000  loss: 0.0985 (0.1191)  loss_classifier: 0.0154 (0.0213)  loss_box_reg: 0.0297 (0.0373)  loss_mask: 0.0499 (0.0565)  loss_objectness: 0.0002 (0.0007)  loss_rpn_box_reg: 0.0005 (0.0033)  time: 0.1019  data: 0.0073  max mem: 4106\n",
            "Epoch: [2]  [2000/5175]  eta: 0:05:26  lr: 0.005000  loss: 0.0924 (0.1178)  loss_classifier: 0.0183 (0.0209)  loss_box_reg: 0.0245 (0.0366)  loss_mask: 0.0510 (0.0564)  loss_objectness: 0.0002 (0.0007)  loss_rpn_box_reg: 0.0010 (0.0032)  time: 0.1041  data: 0.0077  max mem: 4106\n",
            "Epoch: [2]  [2500/5175]  eta: 0:04:35  lr: 0.005000  loss: 0.1082 (0.1162)  loss_classifier: 0.0198 (0.0203)  loss_box_reg: 0.0362 (0.0359)  loss_mask: 0.0513 (0.0562)  loss_objectness: 0.0002 (0.0007)  loss_rpn_box_reg: 0.0010 (0.0031)  time: 0.1021  data: 0.0074  max mem: 4106\n",
            "Epoch: [2]  [3000/5175]  eta: 0:03:43  lr: 0.005000  loss: 0.1168 (0.1148)  loss_classifier: 0.0193 (0.0198)  loss_box_reg: 0.0405 (0.0354)  loss_mask: 0.0542 (0.0559)  loss_objectness: 0.0002 (0.0006)  loss_rpn_box_reg: 0.0014 (0.0030)  time: 0.1029  data: 0.0075  max mem: 4106\n",
            "Epoch: [2]  [3500/5175]  eta: 0:02:52  lr: 0.005000  loss: 0.0980 (0.1144)  loss_classifier: 0.0130 (0.0195)  loss_box_reg: 0.0318 (0.0353)  loss_mask: 0.0521 (0.0559)  loss_objectness: 0.0001 (0.0006)  loss_rpn_box_reg: 0.0007 (0.0030)  time: 0.1026  data: 0.0076  max mem: 4106\n",
            "Epoch: [2]  [4000/5175]  eta: 0:02:00  lr: 0.005000  loss: 0.1006 (0.1141)  loss_classifier: 0.0173 (0.0193)  loss_box_reg: 0.0277 (0.0353)  loss_mask: 0.0499 (0.0559)  loss_objectness: 0.0001 (0.0006)  loss_rpn_box_reg: 0.0009 (0.0030)  time: 0.1033  data: 0.0075  max mem: 4106\n",
            "Epoch: [2]  [4500/5175]  eta: 0:01:09  lr: 0.005000  loss: 0.0960 (0.1138)  loss_classifier: 0.0152 (0.0192)  loss_box_reg: 0.0269 (0.0351)  loss_mask: 0.0527 (0.0558)  loss_objectness: 0.0002 (0.0006)  loss_rpn_box_reg: 0.0009 (0.0030)  time: 0.1023  data: 0.0076  max mem: 4106\n",
            "Epoch: [2]  [5000/5175]  eta: 0:00:17  lr: 0.005000  loss: 0.0994 (0.1142)  loss_classifier: 0.0194 (0.0194)  loss_box_reg: 0.0330 (0.0352)  loss_mask: 0.0520 (0.0559)  loss_objectness: 0.0003 (0.0006)  loss_rpn_box_reg: 0.0012 (0.0030)  time: 0.1022  data: 0.0075  max mem: 4106\n",
            "Epoch: [2]  [5174/5175]  eta: 0:00:00  lr: 0.005000  loss: 0.1061 (0.1145)  loss_classifier: 0.0205 (0.0195)  loss_box_reg: 0.0308 (0.0354)  loss_mask: 0.0525 (0.0559)  loss_objectness: 0.0004 (0.0006)  loss_rpn_box_reg: 0.0008 (0.0030)  time: 0.1035  data: 0.0076  max mem: 4106\n",
            "Epoch: [2] Total time: 0:08:52 (0.1029 s / it)\n",
            "creating index...\n",
            "index created!\n",
            "Test:  [ 0/50]  eta: 0:00:12  model_time: 0.0705 (0.0705)  evaluator_time: 0.0360 (0.0360)  time: 0.2536  data: 0.1428  max mem: 4106\n",
            "Test:  [49/50]  eta: 0:00:00  model_time: 0.0329 (0.0350)  evaluator_time: 0.0117 (0.0133)  time: 0.0505  data: 0.0041  max mem: 4106\n",
            "Test: Total time: 0:00:02 (0.0583 s / it)\n",
            "Averaged stats: model_time: 0.0329 (0.0350)  evaluator_time: 0.0117 (0.0133)\n",
            "Accumulating evaluation results...\n",
            "DONE (t=0.05s).\n",
            "Accumulating evaluation results...\n",
            "DONE (t=0.05s).\n",
            "IoU metric: bbox\n",
            " Average Precision  (AP) @[ IoU=0.50:0.95 | area=   all | maxDets=100 ] = 0.811\n",
            " Average Precision  (AP) @[ IoU=0.50      | area=   all | maxDets=100 ] = 0.857\n",
            " Average Precision  (AP) @[ IoU=0.75      | area=   all | maxDets=100 ] = 0.850\n",
            " Average Precision  (AP) @[ IoU=0.50:0.95 | area= small | maxDets=100 ] = 0.726\n",
            " Average Precision  (AP) @[ IoU=0.50:0.95 | area=medium | maxDets=100 ] = 0.916\n",
            " Average Precision  (AP) @[ IoU=0.50:0.95 | area= large | maxDets=100 ] = 0.815\n",
            " Average Recall     (AR) @[ IoU=0.50:0.95 | area=   all | maxDets=  1 ] = 0.587\n",
            " Average Recall     (AR) @[ IoU=0.50:0.95 | area=   all | maxDets= 10 ] = 0.825\n",
            " Average Recall     (AR) @[ IoU=0.50:0.95 | area=   all | maxDets=100 ] = 0.825\n",
            " Average Recall     (AR) @[ IoU=0.50:0.95 | area= small | maxDets=100 ] = 0.725\n",
            " Average Recall     (AR) @[ IoU=0.50:0.95 | area=medium | maxDets=100 ] = 0.937\n",
            " Average Recall     (AR) @[ IoU=0.50:0.95 | area= large | maxDets=100 ] = 0.821\n",
            "IoU metric: segm\n",
            " Average Precision  (AP) @[ IoU=0.50:0.95 | area=   all | maxDets=100 ] = 0.828\n",
            " Average Precision  (AP) @[ IoU=0.50      | area=   all | maxDets=100 ] = 0.857\n",
            " Average Precision  (AP) @[ IoU=0.75      | area=   all | maxDets=100 ] = 0.838\n",
            " Average Precision  (AP) @[ IoU=0.50:0.95 | area= small | maxDets=100 ] = 0.768\n",
            " Average Precision  (AP) @[ IoU=0.50:0.95 | area=medium | maxDets=100 ] = 0.932\n",
            " Average Precision  (AP) @[ IoU=0.50:0.95 | area= large | maxDets=100 ] = 0.827\n",
            " Average Recall     (AR) @[ IoU=0.50:0.95 | area=   all | maxDets=  1 ] = 0.593\n",
            " Average Recall     (AR) @[ IoU=0.50:0.95 | area=   all | maxDets= 10 ] = 0.836\n",
            " Average Recall     (AR) @[ IoU=0.50:0.95 | area=   all | maxDets=100 ] = 0.836\n",
            " Average Recall     (AR) @[ IoU=0.50:0.95 | area= small | maxDets=100 ] = 0.775\n",
            " Average Recall     (AR) @[ IoU=0.50:0.95 | area=medium | maxDets=100 ] = 0.954\n",
            " Average Recall     (AR) @[ IoU=0.50:0.95 | area= large | maxDets=100 ] = 0.827\n",
            "Epoch: [3]  [   0/5175]  eta: 0:26:41  lr: 0.000500  loss: 0.1627 (0.1627)  loss_classifier: 0.0257 (0.0257)  loss_box_reg: 0.0639 (0.0639)  loss_mask: 0.0705 (0.0705)  loss_objectness: 0.0004 (0.0004)  loss_rpn_box_reg: 0.0022 (0.0022)  time: 0.3094  data: 0.1858  max mem: 4106\n",
            "Epoch: [3]  [ 500/5175]  eta: 0:08:01  lr: 0.000500  loss: 0.0883 (0.0965)  loss_classifier: 0.0122 (0.0161)  loss_box_reg: 0.0159 (0.0228)  loss_mask: 0.0505 (0.0552)  loss_objectness: 0.0002 (0.0006)  loss_rpn_box_reg: 0.0007 (0.0019)  time: 0.1036  data: 0.0076  max mem: 4106\n",
            "Epoch: [3]  [1000/5175]  eta: 0:07:09  lr: 0.000500  loss: 0.0760 (0.0928)  loss_classifier: 0.0101 (0.0151)  loss_box_reg: 0.0130 (0.0210)  loss_mask: 0.0498 (0.0546)  loss_objectness: 0.0001 (0.0005)  loss_rpn_box_reg: 0.0003 (0.0016)  time: 0.1019  data: 0.0073  max mem: 4106\n",
            "Epoch: [3]  [1500/5175]  eta: 0:06:18  lr: 0.000500  loss: 0.0781 (0.0912)  loss_classifier: 0.0111 (0.0147)  loss_box_reg: 0.0159 (0.0201)  loss_mask: 0.0494 (0.0544)  loss_objectness: 0.0001 (0.0005)  loss_rpn_box_reg: 0.0003 (0.0015)  time: 0.1038  data: 0.0074  max mem: 4106\n",
            "Epoch: [3]  [2000/5175]  eta: 0:05:26  lr: 0.000500  loss: 0.0926 (0.0902)  loss_classifier: 0.0135 (0.0144)  loss_box_reg: 0.0223 (0.0195)  loss_mask: 0.0542 (0.0544)  loss_objectness: 0.0001 (0.0005)  loss_rpn_box_reg: 0.0006 (0.0015)  time: 0.1039  data: 0.0076  max mem: 4106\n",
            "Epoch: [3]  [2500/5175]  eta: 0:04:35  lr: 0.000500  loss: 0.0731 (0.0892)  loss_classifier: 0.0100 (0.0141)  loss_box_reg: 0.0096 (0.0190)  loss_mask: 0.0497 (0.0542)  loss_objectness: 0.0001 (0.0005)  loss_rpn_box_reg: 0.0003 (0.0014)  time: 0.1022  data: 0.0074  max mem: 4106\n",
            "Epoch: [3]  [3000/5175]  eta: 0:03:43  lr: 0.000500  loss: 0.0790 (0.0883)  loss_classifier: 0.0106 (0.0138)  loss_box_reg: 0.0150 (0.0186)  loss_mask: 0.0501 (0.0541)  loss_objectness: 0.0001 (0.0004)  loss_rpn_box_reg: 0.0004 (0.0014)  time: 0.1015  data: 0.0075  max mem: 4106\n",
            "Epoch: [3]  [3500/5175]  eta: 0:02:52  lr: 0.000500  loss: 0.0710 (0.0878)  loss_classifier: 0.0112 (0.0136)  loss_box_reg: 0.0125 (0.0183)  loss_mask: 0.0488 (0.0541)  loss_objectness: 0.0001 (0.0004)  loss_rpn_box_reg: 0.0003 (0.0013)  time: 0.1018  data: 0.0073  max mem: 4106\n",
            "Epoch: [3]  [4000/5175]  eta: 0:02:00  lr: 0.000500  loss: 0.0708 (0.0869)  loss_classifier: 0.0074 (0.0134)  loss_box_reg: 0.0129 (0.0179)  loss_mask: 0.0471 (0.0539)  loss_objectness: 0.0001 (0.0004)  loss_rpn_box_reg: 0.0003 (0.0013)  time: 0.1025  data: 0.0076  max mem: 4106\n",
            "Epoch: [3]  [4500/5175]  eta: 0:01:09  lr: 0.000500  loss: 0.0781 (0.0864)  loss_classifier: 0.0127 (0.0133)  loss_box_reg: 0.0154 (0.0176)  loss_mask: 0.0502 (0.0538)  loss_objectness: 0.0001 (0.0004)  loss_rpn_box_reg: 0.0005 (0.0013)  time: 0.1026  data: 0.0075  max mem: 4106\n",
            "Epoch: [3]  [5000/5175]  eta: 0:00:17  lr: 0.000500  loss: 0.0778 (0.0862)  loss_classifier: 0.0083 (0.0132)  loss_box_reg: 0.0144 (0.0175)  loss_mask: 0.0486 (0.0538)  loss_objectness: 0.0001 (0.0004)  loss_rpn_box_reg: 0.0003 (0.0013)  time: 0.1012  data: 0.0075  max mem: 4106\n",
            "Epoch: [3]  [5174/5175]  eta: 0:00:00  lr: 0.000500  loss: 0.0783 (0.0860)  loss_classifier: 0.0140 (0.0132)  loss_box_reg: 0.0137 (0.0174)  loss_mask: 0.0492 (0.0537)  loss_objectness: 0.0001 (0.0004)  loss_rpn_box_reg: 0.0004 (0.0013)  time: 0.1036  data: 0.0076  max mem: 4106\n",
            "Epoch: [3] Total time: 0:08:51 (0.1028 s / it)\n",
            "creating index...\n",
            "index created!\n",
            "Test:  [ 0/50]  eta: 0:00:12  model_time: 0.0693 (0.0693)  evaluator_time: 0.0367 (0.0367)  time: 0.2554  data: 0.1463  max mem: 4106\n",
            "Test:  [49/50]  eta: 0:00:00  model_time: 0.0325 (0.0346)  evaluator_time: 0.0115 (0.0132)  time: 0.0499  data: 0.0045  max mem: 4106\n",
            "Test: Total time: 0:00:02 (0.0581 s / it)\n",
            "Averaged stats: model_time: 0.0325 (0.0346)  evaluator_time: 0.0115 (0.0132)\n",
            "Accumulating evaluation results...\n",
            "DONE (t=0.05s).\n",
            "Accumulating evaluation results...\n",
            "DONE (t=0.05s).\n",
            "IoU metric: bbox\n",
            " Average Precision  (AP) @[ IoU=0.50:0.95 | area=   all | maxDets=100 ] = 0.849\n",
            " Average Precision  (AP) @[ IoU=0.50      | area=   all | maxDets=100 ] = 0.857\n",
            " Average Precision  (AP) @[ IoU=0.75      | area=   all | maxDets=100 ] = 0.857\n",
            " Average Precision  (AP) @[ IoU=0.50:0.95 | area= small | maxDets=100 ] = 0.963\n",
            " Average Precision  (AP) @[ IoU=0.50:0.95 | area=medium | maxDets=100 ] = 0.982\n",
            " Average Precision  (AP) @[ IoU=0.50:0.95 | area= large | maxDets=100 ] = 0.825\n",
            " Average Recall     (AR) @[ IoU=0.50:0.95 | area=   all | maxDets=  1 ] = 0.602\n",
            " Average Recall     (AR) @[ IoU=0.50:0.95 | area=   all | maxDets= 10 ] = 0.852\n",
            " Average Recall     (AR) @[ IoU=0.50:0.95 | area=   all | maxDets=100 ] = 0.852\n",
            " Average Recall     (AR) @[ IoU=0.50:0.95 | area= small | maxDets=100 ] = 0.975\n",
            " Average Recall     (AR) @[ IoU=0.50:0.95 | area=medium | maxDets=100 ] = 0.984\n",
            " Average Recall     (AR) @[ IoU=0.50:0.95 | area= large | maxDets=100 ] = 0.826\n",
            "IoU metric: segm\n",
            " Average Precision  (AP) @[ IoU=0.50:0.95 | area=   all | maxDets=100 ] = 0.832\n",
            " Average Precision  (AP) @[ IoU=0.50      | area=   all | maxDets=100 ] = 0.857\n",
            " Average Precision  (AP) @[ IoU=0.75      | area=   all | maxDets=100 ] = 0.847\n",
            " Average Precision  (AP) @[ IoU=0.50:0.95 | area= small | maxDets=100 ] = 0.801\n",
            " Average Precision  (AP) @[ IoU=0.50:0.95 | area=medium | maxDets=100 ] = 0.947\n",
            " Average Precision  (AP) @[ IoU=0.50:0.95 | area= large | maxDets=100 ] = 0.827\n",
            " Average Recall     (AR) @[ IoU=0.50:0.95 | area=   all | maxDets=  1 ] = 0.593\n",
            " Average Recall     (AR) @[ IoU=0.50:0.95 | area=   all | maxDets= 10 ] = 0.840\n",
            " Average Recall     (AR) @[ IoU=0.50:0.95 | area=   all | maxDets=100 ] = 0.840\n",
            " Average Recall     (AR) @[ IoU=0.50:0.95 | area= small | maxDets=100 ] = 0.825\n",
            " Average Recall     (AR) @[ IoU=0.50:0.95 | area=medium | maxDets=100 ] = 0.965\n",
            " Average Recall     (AR) @[ IoU=0.50:0.95 | area= large | maxDets=100 ] = 0.827\n",
            "Epoch: [4]  [   0/5175]  eta: 0:26:44  lr: 0.000500  loss: 0.0791 (0.0791)  loss_classifier: 0.0089 (0.0089)  loss_box_reg: 0.0107 (0.0107)  loss_mask: 0.0590 (0.0590)  loss_objectness: 0.0000 (0.0000)  loss_rpn_box_reg: 0.0005 (0.0005)  time: 0.3101  data: 0.1768  max mem: 4106\n",
            "Epoch: [4]  [ 500/5175]  eta: 0:08:02  lr: 0.000500  loss: 0.0696 (0.0808)  loss_classifier: 0.0103 (0.0117)  loss_box_reg: 0.0093 (0.0145)  loss_mask: 0.0493 (0.0531)  loss_objectness: 0.0001 (0.0004)  loss_rpn_box_reg: 0.0003 (0.0011)  time: 0.1020  data: 0.0075  max mem: 4106\n",
            "Epoch: [4]  [1000/5175]  eta: 0:07:09  lr: 0.000500  loss: 0.0703 (0.0800)  loss_classifier: 0.0104 (0.0116)  loss_box_reg: 0.0103 (0.0142)  loss_mask: 0.0501 (0.0528)  loss_objectness: 0.0001 (0.0003)  loss_rpn_box_reg: 0.0003 (0.0010)  time: 0.1023  data: 0.0074  max mem: 4106\n",
            "Epoch: [4]  [1500/5175]  eta: 0:06:17  lr: 0.000500  loss: 0.0647 (0.0805)  loss_classifier: 0.0077 (0.0116)  loss_box_reg: 0.0070 (0.0144)  loss_mask: 0.0457 (0.0532)  loss_objectness: 0.0000 (0.0003)  loss_rpn_box_reg: 0.0002 (0.0010)  time: 0.1000  data: 0.0072  max mem: 4106\n",
            "Epoch: [4]  [2000/5175]  eta: 0:05:26  lr: 0.000500  loss: 0.0800 (0.0804)  loss_classifier: 0.0111 (0.0116)  loss_box_reg: 0.0125 (0.0143)  loss_mask: 0.0515 (0.0531)  loss_objectness: 0.0001 (0.0004)  loss_rpn_box_reg: 0.0004 (0.0011)  time: 0.1039  data: 0.0077  max mem: 4106\n",
            "Epoch: [4]  [2500/5175]  eta: 0:04:34  lr: 0.000500  loss: 0.0704 (0.0801)  loss_classifier: 0.0102 (0.0114)  loss_box_reg: 0.0106 (0.0142)  loss_mask: 0.0494 (0.0531)  loss_objectness: 0.0001 (0.0004)  loss_rpn_box_reg: 0.0004 (0.0010)  time: 0.1021  data: 0.0074  max mem: 4106\n",
            "Epoch: [4]  [3000/5175]  eta: 0:03:43  lr: 0.000500  loss: 0.0693 (0.0801)  loss_classifier: 0.0118 (0.0114)  loss_box_reg: 0.0086 (0.0143)  loss_mask: 0.0488 (0.0531)  loss_objectness: 0.0001 (0.0004)  loss_rpn_box_reg: 0.0003 (0.0010)  time: 0.1011  data: 0.0073  max mem: 4106\n",
            "Epoch: [4]  [3500/5175]  eta: 0:02:51  lr: 0.000500  loss: 0.0723 (0.0799)  loss_classifier: 0.0102 (0.0113)  loss_box_reg: 0.0084 (0.0142)  loss_mask: 0.0512 (0.0531)  loss_objectness: 0.0001 (0.0004)  loss_rpn_box_reg: 0.0003 (0.0010)  time: 0.1013  data: 0.0073  max mem: 4106\n",
            "Epoch: [4]  [4000/5175]  eta: 0:02:00  lr: 0.000500  loss: 0.0626 (0.0798)  loss_classifier: 0.0076 (0.0113)  loss_box_reg: 0.0084 (0.0142)  loss_mask: 0.0455 (0.0530)  loss_objectness: 0.0001 (0.0004)  loss_rpn_box_reg: 0.0003 (0.0010)  time: 0.1020  data: 0.0076  max mem: 4106\n",
            "Epoch: [4]  [4500/5175]  eta: 0:01:09  lr: 0.000500  loss: 0.0683 (0.0798)  loss_classifier: 0.0102 (0.0113)  loss_box_reg: 0.0102 (0.0141)  loss_mask: 0.0507 (0.0530)  loss_objectness: 0.0000 (0.0004)  loss_rpn_box_reg: 0.0005 (0.0010)  time: 0.1018  data: 0.0073  max mem: 4106\n",
            "Epoch: [4]  [5000/5175]  eta: 0:00:17  lr: 0.000500  loss: 0.0633 (0.0797)  loss_classifier: 0.0073 (0.0112)  loss_box_reg: 0.0082 (0.0141)  loss_mask: 0.0469 (0.0530)  loss_objectness: 0.0000 (0.0004)  loss_rpn_box_reg: 0.0003 (0.0010)  time: 0.1049  data: 0.0084  max mem: 4106\n",
            "Epoch: [4]  [5174/5175]  eta: 0:00:00  lr: 0.000500  loss: 0.0700 (0.0796)  loss_classifier: 0.0080 (0.0112)  loss_box_reg: 0.0106 (0.0141)  loss_mask: 0.0506 (0.0530)  loss_objectness: 0.0000 (0.0004)  loss_rpn_box_reg: 0.0003 (0.0010)  time: 0.1013  data: 0.0076  max mem: 4106\n",
            "Epoch: [4] Total time: 0:08:51 (0.1027 s / it)\n",
            "creating index...\n",
            "index created!\n",
            "Test:  [ 0/50]  eta: 0:00:12  model_time: 0.0703 (0.0703)  evaluator_time: 0.0393 (0.0393)  time: 0.2590  data: 0.1458  max mem: 4106\n",
            "Test:  [49/50]  eta: 0:00:00  model_time: 0.0320 (0.0358)  evaluator_time: 0.0111 (0.0131)  time: 0.0498  data: 0.0043  max mem: 4106\n",
            "Test: Total time: 0:00:02 (0.0589 s / it)\n",
            "Averaged stats: model_time: 0.0320 (0.0358)  evaluator_time: 0.0111 (0.0131)\n",
            "Accumulating evaluation results...\n",
            "DONE (t=0.05s).\n",
            "Accumulating evaluation results...\n",
            "DONE (t=0.05s).\n",
            "IoU metric: bbox\n",
            " Average Precision  (AP) @[ IoU=0.50:0.95 | area=   all | maxDets=100 ] = 0.851\n",
            " Average Precision  (AP) @[ IoU=0.50      | area=   all | maxDets=100 ] = 0.857\n",
            " Average Precision  (AP) @[ IoU=0.75      | area=   all | maxDets=100 ] = 0.857\n",
            " Average Precision  (AP) @[ IoU=0.50:0.95 | area= small | maxDets=100 ] = 1.000\n",
            " Average Precision  (AP) @[ IoU=0.50:0.95 | area=medium | maxDets=100 ] = 0.983\n",
            " Average Precision  (AP) @[ IoU=0.50:0.95 | area= large | maxDets=100 ] = 0.826\n",
            " Average Recall     (AR) @[ IoU=0.50:0.95 | area=   all | maxDets=  1 ] = 0.603\n",
            " Average Recall     (AR) @[ IoU=0.50:0.95 | area=   all | maxDets= 10 ] = 0.853\n",
            " Average Recall     (AR) @[ IoU=0.50:0.95 | area=   all | maxDets=100 ] = 0.853\n",
            " Average Recall     (AR) @[ IoU=0.50:0.95 | area= small | maxDets=100 ] = 1.000\n",
            " Average Recall     (AR) @[ IoU=0.50:0.95 | area=medium | maxDets=100 ] = 0.985\n",
            " Average Recall     (AR) @[ IoU=0.50:0.95 | area= large | maxDets=100 ] = 0.826\n",
            "IoU metric: segm\n",
            " Average Precision  (AP) @[ IoU=0.50:0.95 | area=   all | maxDets=100 ] = 0.834\n",
            " Average Precision  (AP) @[ IoU=0.50      | area=   all | maxDets=100 ] = 0.857\n",
            " Average Precision  (AP) @[ IoU=0.75      | area=   all | maxDets=100 ] = 0.843\n",
            " Average Precision  (AP) @[ IoU=0.50:0.95 | area= small | maxDets=100 ] = 0.776\n",
            " Average Precision  (AP) @[ IoU=0.50:0.95 | area=medium | maxDets=100 ] = 0.950\n",
            " Average Precision  (AP) @[ IoU=0.50:0.95 | area= large | maxDets=100 ] = 0.827\n",
            " Average Recall     (AR) @[ IoU=0.50:0.95 | area=   all | maxDets=  1 ] = 0.593\n",
            " Average Recall     (AR) @[ IoU=0.50:0.95 | area=   all | maxDets= 10 ] = 0.840\n",
            " Average Recall     (AR) @[ IoU=0.50:0.95 | area=   all | maxDets=100 ] = 0.840\n",
            " Average Recall     (AR) @[ IoU=0.50:0.95 | area= small | maxDets=100 ] = 0.775\n",
            " Average Recall     (AR) @[ IoU=0.50:0.95 | area=medium | maxDets=100 ] = 0.967\n",
            " Average Recall     (AR) @[ IoU=0.50:0.95 | area= large | maxDets=100 ] = 0.827\n",
            "Epoch: [5]  [   0/5175]  eta: 0:27:05  lr: 0.000500  loss: 0.0708 (0.0708)  loss_classifier: 0.0065 (0.0065)  loss_box_reg: 0.0091 (0.0091)  loss_mask: 0.0548 (0.0548)  loss_objectness: 0.0001 (0.0001)  loss_rpn_box_reg: 0.0002 (0.0002)  time: 0.3141  data: 0.1835  max mem: 4106\n",
            "Epoch: [5]  [ 500/5175]  eta: 0:08:02  lr: 0.000500  loss: 0.0701 (0.0779)  loss_classifier: 0.0109 (0.0106)  loss_box_reg: 0.0098 (0.0131)  loss_mask: 0.0480 (0.0530)  loss_objectness: 0.0001 (0.0003)  loss_rpn_box_reg: 0.0004 (0.0009)  time: 0.1038  data: 0.0081  max mem: 4106\n",
            "Epoch: [5]  [1000/5175]  eta: 0:07:08  lr: 0.000500  loss: 0.0724 (0.0783)  loss_classifier: 0.0100 (0.0106)  loss_box_reg: 0.0108 (0.0133)  loss_mask: 0.0510 (0.0532)  loss_objectness: 0.0000 (0.0003)  loss_rpn_box_reg: 0.0006 (0.0009)  time: 0.1022  data: 0.0074  max mem: 4106\n",
            "Epoch: [5]  [1500/5175]  eta: 0:06:17  lr: 0.000500  loss: 0.0665 (0.0777)  loss_classifier: 0.0111 (0.0105)  loss_box_reg: 0.0087 (0.0132)  loss_mask: 0.0459 (0.0529)  loss_objectness: 0.0001 (0.0003)  loss_rpn_box_reg: 0.0004 (0.0008)  time: 0.1046  data: 0.0079  max mem: 4106\n",
            "Epoch: [5]  [2000/5175]  eta: 0:05:26  lr: 0.000500  loss: 0.0807 (0.0780)  loss_classifier: 0.0136 (0.0105)  loss_box_reg: 0.0128 (0.0133)  loss_mask: 0.0527 (0.0530)  loss_objectness: 0.0001 (0.0003)  loss_rpn_box_reg: 0.0005 (0.0009)  time: 0.1047  data: 0.0078  max mem: 4106\n",
            "Epoch: [5]  [2500/5175]  eta: 0:04:35  lr: 0.000500  loss: 0.0647 (0.0783)  loss_classifier: 0.0088 (0.0105)  loss_box_reg: 0.0086 (0.0134)  loss_mask: 0.0452 (0.0532)  loss_objectness: 0.0001 (0.0003)  loss_rpn_box_reg: 0.0002 (0.0009)  time: 0.1022  data: 0.0076  max mem: 4106\n",
            "Epoch: [5]  [3000/5175]  eta: 0:03:43  lr: 0.000500  loss: 0.0734 (0.0781)  loss_classifier: 0.0107 (0.0105)  loss_box_reg: 0.0116 (0.0133)  loss_mask: 0.0484 (0.0531)  loss_objectness: 0.0001 (0.0003)  loss_rpn_box_reg: 0.0004 (0.0009)  time: 0.1014  data: 0.0073  max mem: 4106\n",
            "Epoch: [5]  [3500/5175]  eta: 0:02:52  lr: 0.000500  loss: 0.0635 (0.0778)  loss_classifier: 0.0075 (0.0105)  loss_box_reg: 0.0075 (0.0132)  loss_mask: 0.0480 (0.0529)  loss_objectness: 0.0000 (0.0003)  loss_rpn_box_reg: 0.0002 (0.0009)  time: 0.1008  data: 0.0076  max mem: 4106\n",
            "Epoch: [5]  [4000/5175]  eta: 0:02:00  lr: 0.000500  loss: 0.0630 (0.0775)  loss_classifier: 0.0075 (0.0105)  loss_box_reg: 0.0090 (0.0131)  loss_mask: 0.0472 (0.0528)  loss_objectness: 0.0000 (0.0003)  loss_rpn_box_reg: 0.0002 (0.0009)  time: 0.1020  data: 0.0074  max mem: 4106\n",
            "Epoch: [5]  [4500/5175]  eta: 0:01:09  lr: 0.000500  loss: 0.0690 (0.0774)  loss_classifier: 0.0089 (0.0105)  loss_box_reg: 0.0096 (0.0130)  loss_mask: 0.0478 (0.0527)  loss_objectness: 0.0001 (0.0003)  loss_rpn_box_reg: 0.0004 (0.0009)  time: 0.1034  data: 0.0080  max mem: 4106\n",
            "Epoch: [5]  [5000/5175]  eta: 0:00:17  lr: 0.000500  loss: 0.0673 (0.0771)  loss_classifier: 0.0075 (0.0104)  loss_box_reg: 0.0087 (0.0129)  loss_mask: 0.0481 (0.0526)  loss_objectness: 0.0001 (0.0003)  loss_rpn_box_reg: 0.0003 (0.0009)  time: 0.1018  data: 0.0074  max mem: 4106\n",
            "Epoch: [5]  [5174/5175]  eta: 0:00:00  lr: 0.000500  loss: 0.0669 (0.0770)  loss_classifier: 0.0089 (0.0104)  loss_box_reg: 0.0087 (0.0128)  loss_mask: 0.0500 (0.0527)  loss_objectness: 0.0000 (0.0003)  loss_rpn_box_reg: 0.0003 (0.0009)  time: 0.1035  data: 0.0079  max mem: 4106\n",
            "Epoch: [5] Total time: 0:08:51 (0.1027 s / it)\n",
            "creating index...\n",
            "index created!\n",
            "Test:  [ 0/50]  eta: 0:00:12  model_time: 0.0725 (0.0725)  evaluator_time: 0.0365 (0.0365)  time: 0.2562  data: 0.1440  max mem: 4106\n",
            "Test:  [49/50]  eta: 0:00:00  model_time: 0.0315 (0.0353)  evaluator_time: 0.0117 (0.0132)  time: 0.0492  data: 0.0042  max mem: 4106\n",
            "Test: Total time: 0:00:02 (0.0583 s / it)\n",
            "Averaged stats: model_time: 0.0315 (0.0353)  evaluator_time: 0.0117 (0.0132)\n",
            "Accumulating evaluation results...\n",
            "DONE (t=0.05s).\n",
            "Accumulating evaluation results...\n",
            "DONE (t=0.05s).\n",
            "IoU metric: bbox\n",
            " Average Precision  (AP) @[ IoU=0.50:0.95 | area=   all | maxDets=100 ] = 0.852\n",
            " Average Precision  (AP) @[ IoU=0.50      | area=   all | maxDets=100 ] = 0.857\n",
            " Average Precision  (AP) @[ IoU=0.75      | area=   all | maxDets=100 ] = 0.857\n",
            " Average Precision  (AP) @[ IoU=0.50:0.95 | area= small | maxDets=100 ] = 1.000\n",
            " Average Precision  (AP) @[ IoU=0.50:0.95 | area=medium | maxDets=100 ] = 0.984\n",
            " Average Precision  (AP) @[ IoU=0.50:0.95 | area= large | maxDets=100 ] = 0.832\n",
            " Average Recall     (AR) @[ IoU=0.50:0.95 | area=   all | maxDets=  1 ] = 0.603\n",
            " Average Recall     (AR) @[ IoU=0.50:0.95 | area=   all | maxDets= 10 ] = 0.853\n",
            " Average Recall     (AR) @[ IoU=0.50:0.95 | area=   all | maxDets=100 ] = 0.853\n",
            " Average Recall     (AR) @[ IoU=0.50:0.95 | area= small | maxDets=100 ] = 1.000\n",
            " Average Recall     (AR) @[ IoU=0.50:0.95 | area=medium | maxDets=100 ] = 0.985\n",
            " Average Recall     (AR) @[ IoU=0.50:0.95 | area= large | maxDets=100 ] = 0.832\n",
            "IoU metric: segm\n",
            " Average Precision  (AP) @[ IoU=0.50:0.95 | area=   all | maxDets=100 ] = 0.832\n",
            " Average Precision  (AP) @[ IoU=0.50      | area=   all | maxDets=100 ] = 0.857\n",
            " Average Precision  (AP) @[ IoU=0.75      | area=   all | maxDets=100 ] = 0.843\n",
            " Average Precision  (AP) @[ IoU=0.50:0.95 | area= small | maxDets=100 ] = 0.726\n",
            " Average Precision  (AP) @[ IoU=0.50:0.95 | area=medium | maxDets=100 ] = 0.944\n",
            " Average Precision  (AP) @[ IoU=0.50:0.95 | area= large | maxDets=100 ] = 0.828\n",
            " Average Recall     (AR) @[ IoU=0.50:0.95 | area=   all | maxDets=  1 ] = 0.594\n",
            " Average Recall     (AR) @[ IoU=0.50:0.95 | area=   all | maxDets= 10 ] = 0.839\n",
            " Average Recall     (AR) @[ IoU=0.50:0.95 | area=   all | maxDets=100 ] = 0.839\n",
            " Average Recall     (AR) @[ IoU=0.50:0.95 | area= small | maxDets=100 ] = 0.725\n",
            " Average Recall     (AR) @[ IoU=0.50:0.95 | area=medium | maxDets=100 ] = 0.962\n",
            " Average Recall     (AR) @[ IoU=0.50:0.95 | area= large | maxDets=100 ] = 0.828\n",
            "Epoch: [6]  [   0/5175]  eta: 0:27:48  lr: 0.000050  loss: 0.0707 (0.0707)  loss_classifier: 0.0109 (0.0109)  loss_box_reg: 0.0092 (0.0092)  loss_mask: 0.0493 (0.0493)  loss_objectness: 0.0001 (0.0001)  loss_rpn_box_reg: 0.0011 (0.0011)  time: 0.3224  data: 0.1918  max mem: 4106\n",
            "Epoch: [6]  [ 500/5175]  eta: 0:08:01  lr: 0.000050  loss: 0.0591 (0.0751)  loss_classifier: 0.0080 (0.0100)  loss_box_reg: 0.0057 (0.0118)  loss_mask: 0.0458 (0.0522)  loss_objectness: 0.0000 (0.0003)  loss_rpn_box_reg: 0.0002 (0.0008)  time: 0.1016  data: 0.0077  max mem: 4106\n",
            "Epoch: [6]  [1000/5175]  eta: 0:07:08  lr: 0.000050  loss: 0.0620 (0.0747)  loss_classifier: 0.0061 (0.0098)  loss_box_reg: 0.0065 (0.0115)  loss_mask: 0.0479 (0.0523)  loss_objectness: 0.0000 (0.0003)  loss_rpn_box_reg: 0.0003 (0.0008)  time: 0.1005  data: 0.0075  max mem: 4106\n",
            "Epoch: [6]  [1500/5175]  eta: 0:06:17  lr: 0.000050  loss: 0.0670 (0.0753)  loss_classifier: 0.0089 (0.0098)  loss_box_reg: 0.0085 (0.0118)  loss_mask: 0.0487 (0.0526)  loss_objectness: 0.0001 (0.0003)  loss_rpn_box_reg: 0.0003 (0.0008)  time: 0.1022  data: 0.0074  max mem: 4106\n",
            "Epoch: [6]  [2000/5175]  eta: 0:05:25  lr: 0.000050  loss: 0.0669 (0.0752)  loss_classifier: 0.0075 (0.0098)  loss_box_reg: 0.0088 (0.0117)  loss_mask: 0.0485 (0.0527)  loss_objectness: 0.0000 (0.0003)  loss_rpn_box_reg: 0.0004 (0.0007)  time: 0.1024  data: 0.0074  max mem: 4106\n",
            "Epoch: [6]  [2500/5175]  eta: 0:04:34  lr: 0.000050  loss: 0.0686 (0.0756)  loss_classifier: 0.0099 (0.0099)  loss_box_reg: 0.0088 (0.0118)  loss_mask: 0.0480 (0.0528)  loss_objectness: 0.0000 (0.0003)  loss_rpn_box_reg: 0.0003 (0.0007)  time: 0.1031  data: 0.0075  max mem: 4106\n",
            "Epoch: [6]  [3000/5175]  eta: 0:03:43  lr: 0.000050  loss: 0.0830 (0.0757)  loss_classifier: 0.0085 (0.0099)  loss_box_reg: 0.0122 (0.0119)  loss_mask: 0.0566 (0.0528)  loss_objectness: 0.0000 (0.0003)  loss_rpn_box_reg: 0.0005 (0.0008)  time: 0.1022  data: 0.0074  max mem: 4106\n",
            "Epoch: [6]  [3500/5175]  eta: 0:02:51  lr: 0.000050  loss: 0.0655 (0.0756)  loss_classifier: 0.0072 (0.0099)  loss_box_reg: 0.0081 (0.0119)  loss_mask: 0.0483 (0.0528)  loss_objectness: 0.0001 (0.0003)  loss_rpn_box_reg: 0.0004 (0.0008)  time: 0.1038  data: 0.0075  max mem: 4106\n",
            "Epoch: [6]  [4000/5175]  eta: 0:02:00  lr: 0.000050  loss: 0.0669 (0.0755)  loss_classifier: 0.0089 (0.0098)  loss_box_reg: 0.0094 (0.0118)  loss_mask: 0.0468 (0.0528)  loss_objectness: 0.0000 (0.0003)  loss_rpn_box_reg: 0.0003 (0.0008)  time: 0.1032  data: 0.0077  max mem: 4106\n",
            "Epoch: [6]  [4500/5175]  eta: 0:01:09  lr: 0.000050  loss: 0.0592 (0.0754)  loss_classifier: 0.0067 (0.0097)  loss_box_reg: 0.0060 (0.0118)  loss_mask: 0.0471 (0.0528)  loss_objectness: 0.0001 (0.0003)  loss_rpn_box_reg: 0.0002 (0.0008)  time: 0.1003  data: 0.0072  max mem: 4106\n",
            "Epoch: [6]  [5000/5175]  eta: 0:00:17  lr: 0.000050  loss: 0.0666 (0.0752)  loss_classifier: 0.0083 (0.0097)  loss_box_reg: 0.0073 (0.0117)  loss_mask: 0.0491 (0.0527)  loss_objectness: 0.0000 (0.0003)  loss_rpn_box_reg: 0.0003 (0.0008)  time: 0.1022  data: 0.0078  max mem: 4106\n",
            "Epoch: [6]  [5174/5175]  eta: 0:00:00  lr: 0.000050  loss: 0.0678 (0.0752)  loss_classifier: 0.0085 (0.0097)  loss_box_reg: 0.0086 (0.0117)  loss_mask: 0.0494 (0.0527)  loss_objectness: 0.0001 (0.0003)  loss_rpn_box_reg: 0.0005 (0.0008)  time: 0.1020  data: 0.0074  max mem: 4106\n",
            "Epoch: [6] Total time: 0:08:50 (0.1026 s / it)\n",
            "creating index...\n",
            "index created!\n",
            "Test:  [ 0/50]  eta: 0:00:12  model_time: 0.0677 (0.0677)  evaluator_time: 0.0373 (0.0373)  time: 0.2585  data: 0.1489  max mem: 4106\n",
            "Test:  [49/50]  eta: 0:00:00  model_time: 0.0324 (0.0360)  evaluator_time: 0.0116 (0.0130)  time: 0.0499  data: 0.0042  max mem: 4106\n",
            "Test: Total time: 0:00:02 (0.0592 s / it)\n",
            "Averaged stats: model_time: 0.0324 (0.0360)  evaluator_time: 0.0116 (0.0130)\n",
            "Accumulating evaluation results...\n",
            "DONE (t=0.05s).\n",
            "Accumulating evaluation results...\n",
            "DONE (t=0.05s).\n",
            "IoU metric: bbox\n",
            " Average Precision  (AP) @[ IoU=0.50:0.95 | area=   all | maxDets=100 ] = 0.853\n",
            " Average Precision  (AP) @[ IoU=0.50      | area=   all | maxDets=100 ] = 0.857\n",
            " Average Precision  (AP) @[ IoU=0.75      | area=   all | maxDets=100 ] = 0.857\n",
            " Average Precision  (AP) @[ IoU=0.50:0.95 | area= small | maxDets=100 ] = 1.000\n",
            " Average Precision  (AP) @[ IoU=0.50:0.95 | area=medium | maxDets=100 ] = 0.984\n",
            " Average Precision  (AP) @[ IoU=0.50:0.95 | area= large | maxDets=100 ] = 0.832\n",
            " Average Recall     (AR) @[ IoU=0.50:0.95 | area=   all | maxDets=  1 ] = 0.603\n",
            " Average Recall     (AR) @[ IoU=0.50:0.95 | area=   all | maxDets= 10 ] = 0.854\n",
            " Average Recall     (AR) @[ IoU=0.50:0.95 | area=   all | maxDets=100 ] = 0.854\n",
            " Average Recall     (AR) @[ IoU=0.50:0.95 | area= small | maxDets=100 ] = 1.000\n",
            " Average Recall     (AR) @[ IoU=0.50:0.95 | area=medium | maxDets=100 ] = 0.985\n",
            " Average Recall     (AR) @[ IoU=0.50:0.95 | area= large | maxDets=100 ] = 0.832\n",
            "IoU metric: segm\n",
            " Average Precision  (AP) @[ IoU=0.50:0.95 | area=   all | maxDets=100 ] = 0.832\n",
            " Average Precision  (AP) @[ IoU=0.50      | area=   all | maxDets=100 ] = 0.857\n",
            " Average Precision  (AP) @[ IoU=0.75      | area=   all | maxDets=100 ] = 0.843\n",
            " Average Precision  (AP) @[ IoU=0.50:0.95 | area= small | maxDets=100 ] = 0.776\n",
            " Average Precision  (AP) @[ IoU=0.50:0.95 | area=medium | maxDets=100 ] = 0.946\n",
            " Average Precision  (AP) @[ IoU=0.50:0.95 | area= large | maxDets=100 ] = 0.828\n",
            " Average Recall     (AR) @[ IoU=0.50:0.95 | area=   all | maxDets=  1 ] = 0.595\n",
            " Average Recall     (AR) @[ IoU=0.50:0.95 | area=   all | maxDets= 10 ] = 0.839\n",
            " Average Recall     (AR) @[ IoU=0.50:0.95 | area=   all | maxDets=100 ] = 0.839\n",
            " Average Recall     (AR) @[ IoU=0.50:0.95 | area= small | maxDets=100 ] = 0.775\n",
            " Average Recall     (AR) @[ IoU=0.50:0.95 | area=medium | maxDets=100 ] = 0.964\n",
            " Average Recall     (AR) @[ IoU=0.50:0.95 | area= large | maxDets=100 ] = 0.828\n",
            "Epoch: [7]  [   0/5175]  eta: 0:25:57  lr: 0.000050  loss: 0.0587 (0.0587)  loss_classifier: 0.0068 (0.0068)  loss_box_reg: 0.0034 (0.0034)  loss_mask: 0.0480 (0.0480)  loss_objectness: 0.0001 (0.0001)  loss_rpn_box_reg: 0.0005 (0.0005)  time: 0.3010  data: 0.1788  max mem: 4106\n",
            "Epoch: [7]  [ 500/5175]  eta: 0:07:59  lr: 0.000050  loss: 0.0685 (0.0743)  loss_classifier: 0.0086 (0.0095)  loss_box_reg: 0.0078 (0.0112)  loss_mask: 0.0486 (0.0525)  loss_objectness: 0.0001 (0.0003)  loss_rpn_box_reg: 0.0007 (0.0008)  time: 0.1021  data: 0.0075  max mem: 4106\n",
            "Epoch: [7]  [1000/5175]  eta: 0:07:07  lr: 0.000050  loss: 0.0648 (0.0745)  loss_classifier: 0.0074 (0.0096)  loss_box_reg: 0.0080 (0.0115)  loss_mask: 0.0479 (0.0524)  loss_objectness: 0.0000 (0.0003)  loss_rpn_box_reg: 0.0003 (0.0008)  time: 0.1015  data: 0.0079  max mem: 4106\n",
            "Epoch: [7]  [1500/5175]  eta: 0:06:15  lr: 0.000050  loss: 0.0683 (0.0743)  loss_classifier: 0.0086 (0.0096)  loss_box_reg: 0.0093 (0.0114)  loss_mask: 0.0485 (0.0523)  loss_objectness: 0.0001 (0.0003)  loss_rpn_box_reg: 0.0005 (0.0007)  time: 0.1019  data: 0.0074  max mem: 4106\n",
            "Epoch: [7]  [2000/5175]  eta: 0:05:25  lr: 0.000050  loss: 0.0698 (0.0748)  loss_classifier: 0.0091 (0.0097)  loss_box_reg: 0.0095 (0.0116)  loss_mask: 0.0516 (0.0525)  loss_objectness: 0.0001 (0.0003)  loss_rpn_box_reg: 0.0004 (0.0008)  time: 0.1045  data: 0.0075  max mem: 4106\n",
            "Epoch: [7]  [2500/5175]  eta: 0:04:33  lr: 0.000050  loss: 0.0700 (0.0746)  loss_classifier: 0.0087 (0.0096)  loss_box_reg: 0.0098 (0.0115)  loss_mask: 0.0496 (0.0525)  loss_objectness: 0.0000 (0.0003)  loss_rpn_box_reg: 0.0004 (0.0008)  time: 0.1024  data: 0.0073  max mem: 4106\n",
            "Epoch: [7]  [3000/5175]  eta: 0:03:42  lr: 0.000050  loss: 0.0634 (0.0747)  loss_classifier: 0.0078 (0.0096)  loss_box_reg: 0.0065 (0.0115)  loss_mask: 0.0457 (0.0526)  loss_objectness: 0.0001 (0.0003)  loss_rpn_box_reg: 0.0002 (0.0008)  time: 0.1011  data: 0.0073  max mem: 4106\n",
            "Epoch: [7]  [3500/5175]  eta: 0:02:51  lr: 0.000050  loss: 0.0694 (0.0746)  loss_classifier: 0.0095 (0.0095)  loss_box_reg: 0.0095 (0.0114)  loss_mask: 0.0503 (0.0525)  loss_objectness: 0.0001 (0.0003)  loss_rpn_box_reg: 0.0004 (0.0008)  time: 0.1030  data: 0.0074  max mem: 4106\n",
            "Epoch: [7]  [4000/5175]  eta: 0:02:00  lr: 0.000050  loss: 0.0677 (0.0747)  loss_classifier: 0.0084 (0.0095)  loss_box_reg: 0.0091 (0.0115)  loss_mask: 0.0507 (0.0526)  loss_objectness: 0.0001 (0.0003)  loss_rpn_box_reg: 0.0003 (0.0008)  time: 0.1023  data: 0.0075  max mem: 4106\n",
            "Epoch: [7]  [4500/5175]  eta: 0:01:09  lr: 0.000050  loss: 0.0720 (0.0746)  loss_classifier: 0.0082 (0.0095)  loss_box_reg: 0.0097 (0.0115)  loss_mask: 0.0487 (0.0526)  loss_objectness: 0.0000 (0.0003)  loss_rpn_box_reg: 0.0005 (0.0008)  time: 0.1038  data: 0.0077  max mem: 4106\n",
            "Epoch: [7]  [5000/5175]  eta: 0:00:17  lr: 0.000050  loss: 0.0725 (0.0748)  loss_classifier: 0.0099 (0.0096)  loss_box_reg: 0.0105 (0.0115)  loss_mask: 0.0507 (0.0526)  loss_objectness: 0.0000 (0.0003)  loss_rpn_box_reg: 0.0003 (0.0008)  time: 0.1018  data: 0.0073  max mem: 4106\n",
            "Epoch: [7]  [5174/5175]  eta: 0:00:00  lr: 0.000050  loss: 0.0765 (0.0748)  loss_classifier: 0.0108 (0.0096)  loss_box_reg: 0.0091 (0.0115)  loss_mask: 0.0513 (0.0526)  loss_objectness: 0.0001 (0.0003)  loss_rpn_box_reg: 0.0004 (0.0008)  time: 0.1026  data: 0.0075  max mem: 4106\n",
            "Epoch: [7] Total time: 0:08:50 (0.1024 s / it)\n",
            "creating index...\n",
            "index created!\n",
            "Test:  [ 0/50]  eta: 0:00:12  model_time: 0.0668 (0.0668)  evaluator_time: 0.0394 (0.0394)  time: 0.2584  data: 0.1490  max mem: 4106\n",
            "Test:  [49/50]  eta: 0:00:00  model_time: 0.0313 (0.0344)  evaluator_time: 0.0116 (0.0132)  time: 0.0495  data: 0.0042  max mem: 4106\n",
            "Test: Total time: 0:00:02 (0.0575 s / it)\n",
            "Averaged stats: model_time: 0.0313 (0.0344)  evaluator_time: 0.0116 (0.0132)\n",
            "Accumulating evaluation results...\n",
            "DONE (t=0.05s).\n",
            "Accumulating evaluation results...\n",
            "DONE (t=0.05s).\n",
            "IoU metric: bbox\n",
            " Average Precision  (AP) @[ IoU=0.50:0.95 | area=   all | maxDets=100 ] = 0.853\n",
            " Average Precision  (AP) @[ IoU=0.50      | area=   all | maxDets=100 ] = 0.857\n",
            " Average Precision  (AP) @[ IoU=0.75      | area=   all | maxDets=100 ] = 0.857\n",
            " Average Precision  (AP) @[ IoU=0.50:0.95 | area= small | maxDets=100 ] = 1.000\n",
            " Average Precision  (AP) @[ IoU=0.50:0.95 | area=medium | maxDets=100 ] = 0.984\n",
            " Average Precision  (AP) @[ IoU=0.50:0.95 | area= large | maxDets=100 ] = 0.832\n",
            " Average Recall     (AR) @[ IoU=0.50:0.95 | area=   all | maxDets=  1 ] = 0.603\n",
            " Average Recall     (AR) @[ IoU=0.50:0.95 | area=   all | maxDets= 10 ] = 0.854\n",
            " Average Recall     (AR) @[ IoU=0.50:0.95 | area=   all | maxDets=100 ] = 0.854\n",
            " Average Recall     (AR) @[ IoU=0.50:0.95 | area= small | maxDets=100 ] = 1.000\n",
            " Average Recall     (AR) @[ IoU=0.50:0.95 | area=medium | maxDets=100 ] = 0.985\n",
            " Average Recall     (AR) @[ IoU=0.50:0.95 | area= large | maxDets=100 ] = 0.832\n",
            "IoU metric: segm\n",
            " Average Precision  (AP) @[ IoU=0.50:0.95 | area=   all | maxDets=100 ] = 0.835\n",
            " Average Precision  (AP) @[ IoU=0.50      | area=   all | maxDets=100 ] = 0.857\n",
            " Average Precision  (AP) @[ IoU=0.75      | area=   all | maxDets=100 ] = 0.843\n",
            " Average Precision  (AP) @[ IoU=0.50:0.95 | area= small | maxDets=100 ] = 0.776\n",
            " Average Precision  (AP) @[ IoU=0.50:0.95 | area=medium | maxDets=100 ] = 0.951\n",
            " Average Precision  (AP) @[ IoU=0.50:0.95 | area= large | maxDets=100 ] = 0.827\n",
            " Average Recall     (AR) @[ IoU=0.50:0.95 | area=   all | maxDets=  1 ] = 0.595\n",
            " Average Recall     (AR) @[ IoU=0.50:0.95 | area=   all | maxDets= 10 ] = 0.841\n",
            " Average Recall     (AR) @[ IoU=0.50:0.95 | area=   all | maxDets=100 ] = 0.841\n",
            " Average Recall     (AR) @[ IoU=0.50:0.95 | area= small | maxDets=100 ] = 0.775\n",
            " Average Recall     (AR) @[ IoU=0.50:0.95 | area=medium | maxDets=100 ] = 0.966\n",
            " Average Recall     (AR) @[ IoU=0.50:0.95 | area= large | maxDets=100 ] = 0.827\n",
            "Epoch: [8]  [   0/5175]  eta: 0:27:54  lr: 0.000050  loss: 0.1051 (0.1051)  loss_classifier: 0.0151 (0.0151)  loss_box_reg: 0.0312 (0.0312)  loss_mask: 0.0579 (0.0579)  loss_objectness: 0.0001 (0.0001)  loss_rpn_box_reg: 0.0008 (0.0008)  time: 0.3237  data: 0.2049  max mem: 4106\n",
            "Epoch: [8]  [ 500/5175]  eta: 0:08:00  lr: 0.000050  loss: 0.0676 (0.0748)  loss_classifier: 0.0096 (0.0096)  loss_box_reg: 0.0079 (0.0115)  loss_mask: 0.0485 (0.0527)  loss_objectness: 0.0000 (0.0003)  loss_rpn_box_reg: 0.0003 (0.0008)  time: 0.1036  data: 0.0079  max mem: 4106\n",
            "Epoch: [8]  [1000/5175]  eta: 0:07:08  lr: 0.000050  loss: 0.0722 (0.0756)  loss_classifier: 0.0094 (0.0096)  loss_box_reg: 0.0098 (0.0118)  loss_mask: 0.0512 (0.0530)  loss_objectness: 0.0001 (0.0003)  loss_rpn_box_reg: 0.0006 (0.0008)  time: 0.1037  data: 0.0075  max mem: 4106\n",
            "Epoch: [8]  [1500/5175]  eta: 0:06:16  lr: 0.000050  loss: 0.0562 (0.0747)  loss_classifier: 0.0053 (0.0093)  loss_box_reg: 0.0055 (0.0113)  loss_mask: 0.0459 (0.0529)  loss_objectness: 0.0000 (0.0003)  loss_rpn_box_reg: 0.0003 (0.0008)  time: 0.1018  data: 0.0074  max mem: 4106\n",
            "Epoch: [8]  [2000/5175]  eta: 0:05:25  lr: 0.000050  loss: 0.0611 (0.0748)  loss_classifier: 0.0073 (0.0094)  loss_box_reg: 0.0071 (0.0114)  loss_mask: 0.0463 (0.0529)  loss_objectness: 0.0000 (0.0003)  loss_rpn_box_reg: 0.0002 (0.0008)  time: 0.1013  data: 0.0074  max mem: 4107\n",
            "Epoch: [8]  [2500/5175]  eta: 0:04:33  lr: 0.000050  loss: 0.0650 (0.0749)  loss_classifier: 0.0104 (0.0094)  loss_box_reg: 0.0087 (0.0115)  loss_mask: 0.0485 (0.0529)  loss_objectness: 0.0000 (0.0003)  loss_rpn_box_reg: 0.0002 (0.0008)  time: 0.1027  data: 0.0075  max mem: 4107\n",
            "Epoch: [8]  [3000/5175]  eta: 0:03:42  lr: 0.000050  loss: 0.0569 (0.0746)  loss_classifier: 0.0060 (0.0094)  loss_box_reg: 0.0061 (0.0115)  loss_mask: 0.0444 (0.0527)  loss_objectness: 0.0000 (0.0003)  loss_rpn_box_reg: 0.0002 (0.0008)  time: 0.1003  data: 0.0072  max mem: 4107\n",
            "Epoch: [8]  [3500/5175]  eta: 0:02:51  lr: 0.000050  loss: 0.0611 (0.0748)  loss_classifier: 0.0066 (0.0095)  loss_box_reg: 0.0060 (0.0116)  loss_mask: 0.0467 (0.0528)  loss_objectness: 0.0000 (0.0003)  loss_rpn_box_reg: 0.0002 (0.0008)  time: 0.1006  data: 0.0073  max mem: 4107\n",
            "Epoch: [8]  [4000/5175]  eta: 0:02:00  lr: 0.000050  loss: 0.0777 (0.0748)  loss_classifier: 0.0115 (0.0094)  loss_box_reg: 0.0125 (0.0115)  loss_mask: 0.0528 (0.0528)  loss_objectness: 0.0001 (0.0003)  loss_rpn_box_reg: 0.0004 (0.0008)  time: 0.1066  data: 0.0079  max mem: 4107\n",
            "Epoch: [8]  [4500/5175]  eta: 0:01:09  lr: 0.000050  loss: 0.0726 (0.0746)  loss_classifier: 0.0116 (0.0095)  loss_box_reg: 0.0103 (0.0115)  loss_mask: 0.0504 (0.0526)  loss_objectness: 0.0001 (0.0003)  loss_rpn_box_reg: 0.0004 (0.0008)  time: 0.1025  data: 0.0072  max mem: 4107\n",
            "Epoch: [8]  [5000/5175]  eta: 0:00:17  lr: 0.000050  loss: 0.0656 (0.0745)  loss_classifier: 0.0069 (0.0094)  loss_box_reg: 0.0066 (0.0114)  loss_mask: 0.0473 (0.0525)  loss_objectness: 0.0000 (0.0003)  loss_rpn_box_reg: 0.0003 (0.0008)  time: 0.1040  data: 0.0085  max mem: 4107\n",
            "Epoch: [8]  [5174/5175]  eta: 0:00:00  lr: 0.000050  loss: 0.0660 (0.0745)  loss_classifier: 0.0081 (0.0094)  loss_box_reg: 0.0087 (0.0114)  loss_mask: 0.0476 (0.0525)  loss_objectness: 0.0000 (0.0003)  loss_rpn_box_reg: 0.0002 (0.0008)  time: 0.1029  data: 0.0079  max mem: 4107\n",
            "Epoch: [8] Total time: 0:08:50 (0.1025 s / it)\n",
            "creating index...\n",
            "index created!\n",
            "Test:  [ 0/50]  eta: 0:00:12  model_time: 0.0711 (0.0711)  evaluator_time: 0.0366 (0.0366)  time: 0.2546  data: 0.1430  max mem: 4107\n",
            "Test:  [49/50]  eta: 0:00:00  model_time: 0.0323 (0.0359)  evaluator_time: 0.0117 (0.0131)  time: 0.0507  data: 0.0043  max mem: 4107\n",
            "Test: Total time: 0:00:02 (0.0589 s / it)\n",
            "Averaged stats: model_time: 0.0323 (0.0359)  evaluator_time: 0.0117 (0.0131)\n",
            "Accumulating evaluation results...\n",
            "DONE (t=0.05s).\n",
            "Accumulating evaluation results...\n",
            "DONE (t=0.05s).\n",
            "IoU metric: bbox\n",
            " Average Precision  (AP) @[ IoU=0.50:0.95 | area=   all | maxDets=100 ] = 0.853\n",
            " Average Precision  (AP) @[ IoU=0.50      | area=   all | maxDets=100 ] = 0.857\n",
            " Average Precision  (AP) @[ IoU=0.75      | area=   all | maxDets=100 ] = 0.857\n",
            " Average Precision  (AP) @[ IoU=0.50:0.95 | area= small | maxDets=100 ] = 1.000\n",
            " Average Precision  (AP) @[ IoU=0.50:0.95 | area=medium | maxDets=100 ] = 0.984\n",
            " Average Precision  (AP) @[ IoU=0.50:0.95 | area= large | maxDets=100 ] = 0.832\n",
            " Average Recall     (AR) @[ IoU=0.50:0.95 | area=   all | maxDets=  1 ] = 0.603\n",
            " Average Recall     (AR) @[ IoU=0.50:0.95 | area=   all | maxDets= 10 ] = 0.854\n",
            " Average Recall     (AR) @[ IoU=0.50:0.95 | area=   all | maxDets=100 ] = 0.854\n",
            " Average Recall     (AR) @[ IoU=0.50:0.95 | area= small | maxDets=100 ] = 1.000\n",
            " Average Recall     (AR) @[ IoU=0.50:0.95 | area=medium | maxDets=100 ] = 0.985\n",
            " Average Recall     (AR) @[ IoU=0.50:0.95 | area= large | maxDets=100 ] = 0.832\n",
            "IoU metric: segm\n",
            " Average Precision  (AP) @[ IoU=0.50:0.95 | area=   all | maxDets=100 ] = 0.833\n",
            " Average Precision  (AP) @[ IoU=0.50      | area=   all | maxDets=100 ] = 0.857\n",
            " Average Precision  (AP) @[ IoU=0.75      | area=   all | maxDets=100 ] = 0.843\n",
            " Average Precision  (AP) @[ IoU=0.50:0.95 | area= small | maxDets=100 ] = 0.776\n",
            " Average Precision  (AP) @[ IoU=0.50:0.95 | area=medium | maxDets=100 ] = 0.947\n",
            " Average Precision  (AP) @[ IoU=0.50:0.95 | area= large | maxDets=100 ] = 0.828\n",
            " Average Recall     (AR) @[ IoU=0.50:0.95 | area=   all | maxDets=  1 ] = 0.594\n",
            " Average Recall     (AR) @[ IoU=0.50:0.95 | area=   all | maxDets= 10 ] = 0.839\n",
            " Average Recall     (AR) @[ IoU=0.50:0.95 | area=   all | maxDets=100 ] = 0.839\n",
            " Average Recall     (AR) @[ IoU=0.50:0.95 | area= small | maxDets=100 ] = 0.775\n",
            " Average Recall     (AR) @[ IoU=0.50:0.95 | area=medium | maxDets=100 ] = 0.963\n",
            " Average Recall     (AR) @[ IoU=0.50:0.95 | area= large | maxDets=100 ] = 0.828\n",
            "Epoch: [9]  [   0/5175]  eta: 0:28:55  lr: 0.000005  loss: 0.1132 (0.1132)  loss_classifier: 0.0275 (0.0275)  loss_box_reg: 0.0324 (0.0324)  loss_mask: 0.0524 (0.0524)  loss_objectness: 0.0001 (0.0001)  loss_rpn_box_reg: 0.0009 (0.0009)  time: 0.3354  data: 0.1991  max mem: 4107\n",
            "Epoch: [9]  [ 500/5175]  eta: 0:08:00  lr: 0.000005  loss: 0.0655 (0.0760)  loss_classifier: 0.0059 (0.0097)  loss_box_reg: 0.0086 (0.0119)  loss_mask: 0.0505 (0.0532)  loss_objectness: 0.0000 (0.0003)  loss_rpn_box_reg: 0.0002 (0.0009)  time: 0.0996  data: 0.0072  max mem: 4107\n",
            "Epoch: [9]  [1000/5175]  eta: 0:07:08  lr: 0.000005  loss: 0.0752 (0.0750)  loss_classifier: 0.0091 (0.0095)  loss_box_reg: 0.0126 (0.0116)  loss_mask: 0.0514 (0.0528)  loss_objectness: 0.0001 (0.0003)  loss_rpn_box_reg: 0.0006 (0.0008)  time: 0.1037  data: 0.0077  max mem: 4107\n",
            "Epoch: [9]  [1500/5175]  eta: 0:06:17  lr: 0.000005  loss: 0.0703 (0.0747)  loss_classifier: 0.0098 (0.0094)  loss_box_reg: 0.0077 (0.0115)  loss_mask: 0.0484 (0.0527)  loss_objectness: 0.0001 (0.0003)  loss_rpn_box_reg: 0.0004 (0.0008)  time: 0.1029  data: 0.0075  max mem: 4107\n",
            "Epoch: [9]  [2000/5175]  eta: 0:05:26  lr: 0.000005  loss: 0.0759 (0.0746)  loss_classifier: 0.0089 (0.0094)  loss_box_reg: 0.0116 (0.0114)  loss_mask: 0.0521 (0.0526)  loss_objectness: 0.0001 (0.0003)  loss_rpn_box_reg: 0.0004 (0.0008)  time: 0.1029  data: 0.0075  max mem: 4107\n",
            "Epoch: [9]  [2500/5175]  eta: 0:04:34  lr: 0.000005  loss: 0.0693 (0.0744)  loss_classifier: 0.0097 (0.0094)  loss_box_reg: 0.0080 (0.0113)  loss_mask: 0.0501 (0.0525)  loss_objectness: 0.0001 (0.0003)  loss_rpn_box_reg: 0.0002 (0.0008)  time: 0.1023  data: 0.0075  max mem: 4107\n",
            "Epoch: [9]  [3000/5175]  eta: 0:03:43  lr: 0.000005  loss: 0.0728 (0.0744)  loss_classifier: 0.0083 (0.0093)  loss_box_reg: 0.0067 (0.0114)  loss_mask: 0.0499 (0.0526)  loss_objectness: 0.0001 (0.0003)  loss_rpn_box_reg: 0.0002 (0.0008)  time: 0.1010  data: 0.0073  max mem: 4107\n",
            "Epoch: [9]  [3500/5175]  eta: 0:02:51  lr: 0.000005  loss: 0.0643 (0.0742)  loss_classifier: 0.0082 (0.0093)  loss_box_reg: 0.0079 (0.0113)  loss_mask: 0.0464 (0.0525)  loss_objectness: 0.0001 (0.0003)  loss_rpn_box_reg: 0.0002 (0.0008)  time: 0.1024  data: 0.0074  max mem: 4107\n",
            "Epoch: [9]  [4000/5175]  eta: 0:02:00  lr: 0.000005  loss: 0.0665 (0.0743)  loss_classifier: 0.0073 (0.0093)  loss_box_reg: 0.0078 (0.0114)  loss_mask: 0.0491 (0.0525)  loss_objectness: 0.0001 (0.0003)  loss_rpn_box_reg: 0.0005 (0.0008)  time: 0.1042  data: 0.0078  max mem: 4107\n",
            "Epoch: [9]  [4500/5175]  eta: 0:01:09  lr: 0.000005  loss: 0.0631 (0.0742)  loss_classifier: 0.0084 (0.0093)  loss_box_reg: 0.0070 (0.0113)  loss_mask: 0.0462 (0.0525)  loss_objectness: 0.0001 (0.0003)  loss_rpn_box_reg: 0.0002 (0.0008)  time: 0.1038  data: 0.0079  max mem: 4107\n",
            "Epoch: [9]  [5000/5175]  eta: 0:00:17  lr: 0.000005  loss: 0.0683 (0.0743)  loss_classifier: 0.0069 (0.0093)  loss_box_reg: 0.0088 (0.0114)  loss_mask: 0.0490 (0.0526)  loss_objectness: 0.0000 (0.0003)  loss_rpn_box_reg: 0.0002 (0.0008)  time: 0.1029  data: 0.0078  max mem: 4107\n",
            "Epoch: [9]  [5174/5175]  eta: 0:00:00  lr: 0.000005  loss: 0.0709 (0.0742)  loss_classifier: 0.0085 (0.0093)  loss_box_reg: 0.0089 (0.0113)  loss_mask: 0.0493 (0.0525)  loss_objectness: 0.0001 (0.0003)  loss_rpn_box_reg: 0.0003 (0.0008)  time: 0.1008  data: 0.0075  max mem: 4107\n",
            "Epoch: [9] Total time: 0:08:51 (0.1027 s / it)\n",
            "creating index...\n",
            "index created!\n",
            "Test:  [ 0/50]  eta: 0:00:12  model_time: 0.0644 (0.0644)  evaluator_time: 0.0366 (0.0366)  time: 0.2492  data: 0.1450  max mem: 4107\n",
            "Test:  [49/50]  eta: 0:00:00  model_time: 0.0312 (0.0345)  evaluator_time: 0.0111 (0.0131)  time: 0.0492  data: 0.0044  max mem: 4107\n",
            "Test: Total time: 0:00:02 (0.0578 s / it)\n",
            "Averaged stats: model_time: 0.0312 (0.0345)  evaluator_time: 0.0111 (0.0131)\n",
            "Accumulating evaluation results...\n",
            "DONE (t=0.05s).\n",
            "Accumulating evaluation results...\n",
            "DONE (t=0.05s).\n",
            "IoU metric: bbox\n",
            " Average Precision  (AP) @[ IoU=0.50:0.95 | area=   all | maxDets=100 ] = 0.853\n",
            " Average Precision  (AP) @[ IoU=0.50      | area=   all | maxDets=100 ] = 0.857\n",
            " Average Precision  (AP) @[ IoU=0.75      | area=   all | maxDets=100 ] = 0.857\n",
            " Average Precision  (AP) @[ IoU=0.50:0.95 | area= small | maxDets=100 ] = 1.000\n",
            " Average Precision  (AP) @[ IoU=0.50:0.95 | area=medium | maxDets=100 ] = 0.984\n",
            " Average Precision  (AP) @[ IoU=0.50:0.95 | area= large | maxDets=100 ] = 0.832\n",
            " Average Recall     (AR) @[ IoU=0.50:0.95 | area=   all | maxDets=  1 ] = 0.603\n",
            " Average Recall     (AR) @[ IoU=0.50:0.95 | area=   all | maxDets= 10 ] = 0.854\n",
            " Average Recall     (AR) @[ IoU=0.50:0.95 | area=   all | maxDets=100 ] = 0.854\n",
            " Average Recall     (AR) @[ IoU=0.50:0.95 | area= small | maxDets=100 ] = 1.000\n",
            " Average Recall     (AR) @[ IoU=0.50:0.95 | area=medium | maxDets=100 ] = 0.985\n",
            " Average Recall     (AR) @[ IoU=0.50:0.95 | area= large | maxDets=100 ] = 0.832\n",
            "IoU metric: segm\n",
            " Average Precision  (AP) @[ IoU=0.50:0.95 | area=   all | maxDets=100 ] = 0.834\n",
            " Average Precision  (AP) @[ IoU=0.50      | area=   all | maxDets=100 ] = 0.857\n",
            " Average Precision  (AP) @[ IoU=0.75      | area=   all | maxDets=100 ] = 0.843\n",
            " Average Precision  (AP) @[ IoU=0.50:0.95 | area= small | maxDets=100 ] = 0.776\n",
            " Average Precision  (AP) @[ IoU=0.50:0.95 | area=medium | maxDets=100 ] = 0.949\n",
            " Average Precision  (AP) @[ IoU=0.50:0.95 | area= large | maxDets=100 ] = 0.828\n",
            " Average Recall     (AR) @[ IoU=0.50:0.95 | area=   all | maxDets=  1 ] = 0.595\n",
            " Average Recall     (AR) @[ IoU=0.50:0.95 | area=   all | maxDets= 10 ] = 0.840\n",
            " Average Recall     (AR) @[ IoU=0.50:0.95 | area=   all | maxDets=100 ] = 0.840\n",
            " Average Recall     (AR) @[ IoU=0.50:0.95 | area= small | maxDets=100 ] = 0.775\n",
            " Average Recall     (AR) @[ IoU=0.50:0.95 | area=medium | maxDets=100 ] = 0.965\n",
            " Average Recall     (AR) @[ IoU=0.50:0.95 | area= large | maxDets=100 ] = 0.828\n"
          ]
        }
      ]
    },
    {
      "cell_type": "markdown",
      "metadata": {
        "id": "XXTyZhCScUTI",
        "cell_id": "b40c23951e7e4e449c0ef1eca9e2117c",
        "deepnote_cell_type": "markdown"
      },
      "source": [
        "If you're going to leave this running for a bit, I recommend scheduling the following cell to run immediately (so that you don't lose your work)."
      ]
    },
    {
      "cell_type": "code",
      "metadata": {
        "id": "vUJXn15pGzRj",
        "cell_id": "992de8d640f742368c6c7166b1ceb239",
        "deepnote_cell_type": "code",
        "colab": {
          "base_uri": "https://localhost:8080/",
          "height": 34
        },
        "outputId": "08079aa6-6c3d-499e-cb74-34346382d8b7"
      },
      "source": [
        "torch.save(model.state_dict(), \"clutter_maskrcnn_model.pt\")\n",
        "\n",
        "from google.colab import files\n",
        "\n",
        "files.download(\"clutter_maskrcnn_model.pt\")"
      ],
      "execution_count": null,
      "outputs": [
        {
          "output_type": "display_data",
          "data": {
            "text/plain": [
              "<IPython.core.display.Javascript object>"
            ],
            "application/javascript": [
              "\n",
              "    async function download(id, filename, size) {\n",
              "      if (!google.colab.kernel.accessAllowed) {\n",
              "        return;\n",
              "      }\n",
              "      const div = document.createElement('div');\n",
              "      const label = document.createElement('label');\n",
              "      label.textContent = `Downloading \"${filename}\": `;\n",
              "      div.appendChild(label);\n",
              "      const progress = document.createElement('progress');\n",
              "      progress.max = size;\n",
              "      div.appendChild(progress);\n",
              "      document.body.appendChild(div);\n",
              "\n",
              "      const buffers = [];\n",
              "      let downloaded = 0;\n",
              "\n",
              "      const channel = await google.colab.kernel.comms.open(id);\n",
              "      // Send a message to notify the kernel that we're ready.\n",
              "      channel.send({})\n",
              "\n",
              "      for await (const message of channel.messages) {\n",
              "        // Send a message to notify the kernel that we're ready.\n",
              "        channel.send({})\n",
              "        if (message.buffers) {\n",
              "          for (const buffer of message.buffers) {\n",
              "            buffers.push(buffer);\n",
              "            downloaded += buffer.byteLength;\n",
              "            progress.value = downloaded;\n",
              "          }\n",
              "        }\n",
              "      }\n",
              "      const blob = new Blob(buffers, {type: 'application/binary'});\n",
              "      const a = document.createElement('a');\n",
              "      a.href = window.URL.createObjectURL(blob);\n",
              "      a.download = filename;\n",
              "      div.appendChild(a);\n",
              "      a.click();\n",
              "      div.remove();\n",
              "    }\n",
              "  "
            ]
          },
          "metadata": {}
        },
        {
          "output_type": "display_data",
          "data": {
            "text/plain": [
              "<IPython.core.display.Javascript object>"
            ],
            "application/javascript": [
              "download(\"download_7bfaf5ea-702b-4b80-9ec3-5dd0730eddd3\", \"clutter_maskrcnn_model.pt\", 176380485)"
            ]
          },
          "metadata": {}
        }
      ]
    },
    {
      "cell_type": "markdown",
      "metadata": {
        "id": "Z6mYGFLxkO8F",
        "cell_id": "1f59cbc638df43e0919315e0f904078e",
        "deepnote_cell_type": "markdown"
      },
      "source": [
        "Now that training has finished, let's have a look at what it actually predicts in a test image"
      ]
    },
    {
      "cell_type": "code",
      "metadata": {
        "id": "YHwIdxH76uPj",
        "cell_id": "4256388805ef49b89f1e8e834cda681d",
        "deepnote_cell_type": "code"
      },
      "source": [
        "# pick one image from the test set\n",
        "img, _ = dataset_test[0]\n",
        "# put the model in evaluation mode\n",
        "model.eval()\n",
        "with torch.no_grad():\n",
        "    prediction = model([img.to(device)])"
      ],
      "execution_count": null,
      "outputs": []
    },
    {
      "cell_type": "markdown",
      "metadata": {
        "id": "DmN602iKsuey",
        "cell_id": "0f2091d20b8f4fed81edb61585219e3d",
        "deepnote_cell_type": "markdown"
      },
      "source": [
        "Printing the prediction shows that we have a list of dictionaries. Each element of the list corresponds to a different image. As we have a single image, there is a single dictionary in the list.\n",
        "The dictionary contains the predictions for the image we passed. In this case, we can see that it contains `boxes`, `labels`, `masks` and `scores` as fields."
      ]
    },
    {
      "cell_type": "code",
      "metadata": {
        "id": "Lkmb3qUu6zw3",
        "cell_id": "de48c8701e74480e9d40edde00ac1471",
        "deepnote_cell_type": "code"
      },
      "source": [
        "prediction"
      ],
      "execution_count": null,
      "outputs": []
    },
    {
      "cell_type": "markdown",
      "metadata": {
        "id": "RwT21rzotFbH",
        "cell_id": "528548b12b864dd09a135dceb6d2ca28",
        "deepnote_cell_type": "markdown"
      },
      "source": [
        "Let's inspect the image and the predicted segmentation masks.\n",
        "\n",
        "For that, we need to convert the image, which has been rescaled to 0-1 and had the channels flipped so that we have it in `[C, H, W]` format."
      ]
    },
    {
      "cell_type": "code",
      "metadata": {
        "id": "bpqN9t1u7B2J",
        "cell_id": "3323e9e761434c3d9da5455235faede5",
        "deepnote_cell_type": "code"
      },
      "source": [
        "Image.fromarray(img.mul(255).permute(1, 2, 0).byte().numpy())"
      ],
      "execution_count": null,
      "outputs": []
    },
    {
      "cell_type": "markdown",
      "metadata": {
        "id": "M58J3O9OtT1G",
        "cell_id": "776166655c9c404fbfc79850409c89bd",
        "deepnote_cell_type": "markdown"
      },
      "source": [
        "And let's now visualize the top predicted segmentation mask. The masks are predicted as `[N, 1, H, W]`, where `N` is the number of predictions, and are probability maps between 0-1."
      ]
    },
    {
      "cell_type": "code",
      "metadata": {
        "id": "5v5S3bm07SO1",
        "cell_id": "acc58e1daadc40ec962518e80cfa20ef",
        "deepnote_cell_type": "code"
      },
      "source": [
        "Image.fromarray(prediction[0][\"masks\"][0, 0].mul(255).byte().cpu().numpy())"
      ],
      "execution_count": null,
      "outputs": []
    },
    {
      "cell_type": "markdown",
      "source": [
        "<a style='text-decoration:none;line-height:16px;display:flex;color:#5B5B62;padding:10px;justify-content:end;' href='https://deepnote.com?utm_source=created-in-deepnote-cell&projectId=22327430-09f7-4736-a7ab-08636417e56c' target=\"_blank\">\n",
        "<img alt='Created in deepnote.com' style='display:inline;max-height:16px;margin:0px;margin-right:7.5px;' src='data:image/svg+xml;base64,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' > </img>\n",
        "Created in <span style='font-weight:600;margin-left:4px;'>Deepnote</span></a>"
      ],
      "metadata": {
        "created_in_deepnote_cell": true,
        "deepnote_cell_type": "markdown",
        "id": "lEpqHO_h0uZH"
      }
    }
  ],
  "nbformat": 4,
  "nbformat_minor": 0,
  "metadata": {
    "deepnote_notebook_id": "b1a5ae2c43ce43a8b519ea05c19a1173",
    "colab": {
      "provenance": [],
      "machine_shape": "hm",
      "gpuType": "A100"
    },
    "language_info": {
      "name": "python"
    },
    "kernelspec": {
      "name": "python3",
      "display_name": "Python 3"
    },
    "accelerator": "GPU"
  }
}