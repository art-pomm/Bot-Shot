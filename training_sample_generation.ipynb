{
 "cells": [
  {
   "cell_type": "code",
   "execution_count": 2,
   "metadata": {},
   "outputs": [],
   "source": [
    "from copy import deepcopy\n",
    "\n",
    "import matplotlib.pyplot as plt\n",
    "import numpy as np\n",
    "from pydrake.all import RigidTransform, StartMeshcat, MeshcatVisualizer\n",
    "\n",
    "from pydrake.multibody.parsing import Parser\n",
    "from pydrake.multibody.plant import AddMultibodyPlantSceneGraph\n",
    "from pydrake.perception import Concatenate\n",
    "from pydrake.systems.framework import DiagramBuilder\n",
    "\n",
    "from manipulation.scenarios import AddRgbdSensors\n",
    "from manipulation.utils import ConfigureParser\n"
   ]
  },
  {
   "cell_type": "code",
   "execution_count": 4,
   "metadata": {},
   "outputs": [
    {
     "name": "stderr",
     "output_type": "stream",
     "text": [
      "INFO:drake:Meshcat listening for connections at http://localhost:7001\n"
     ]
    }
   ],
   "source": [
    "# Start the visualizer.\n",
    "meshcat = StartMeshcat()"
   ]
  },
  {
   "cell_type": "code",
   "execution_count": 202,
   "metadata": {},
   "outputs": [],
   "source": [
    "def BallExampleSystem():\n",
    "    builder = DiagramBuilder()\n",
    "\n",
    "    # Create the physics engine + scene graph.\n",
    "    plant, scene_graph = AddMultibodyPlantSceneGraph(builder, time_step=0.0)\n",
    "    parser = Parser(plant)\n",
    "    ConfigureParser(parser)\n",
    "    parser.package_map().AddPackageXml(filename=\"./package.xml\")\n",
    "    parser.AddModelsFromUrl(\"package://bot_shot/models/training.dmd.yaml\")\n",
    "    plant.Finalize()\n",
    "\n",
    "    # Add a visualizer just to help us see the object.\n",
    "    MeshcatVisualizer.AddToBuilder(builder, scene_graph, meshcat)\n",
    "        # meshcat = builder.AddSystem(MeshcatVisualizer(scene_graph))\n",
    "        # builder.Connect(\n",
    "        #     scene_graph.get_query_output_port(),\n",
    "        #     meshcat.get_geometry_query_input_port(),\n",
    "        # )\n",
    "\n",
    "    AddRgbdSensors(builder, plant, scene_graph)\n",
    "\n",
    "    diagram = builder.Build()\n",
    "    diagram.set_name(\"depth_camera_demo_system\")\n",
    "    return diagram"
   ]
  },
  {
   "cell_type": "code",
   "execution_count": 265,
   "metadata": {},
   "outputs": [],
   "source": [
    "class SimpleCameraSystem:\n",
    "    def __init__(self):\n",
    "        diagram = BallExampleSystem()\n",
    "        context = diagram.CreateDefaultContext()\n",
    "\n",
    "        # setup\n",
    "        meshcat.SetProperty(\"/Background\", \"visible\", False)\n",
    "\n",
    "        # getting data\n",
    "        self.point_cloud = diagram.GetOutputPort(\"camera0_point_cloud\").Eval(context)\n",
    "        self.depth_im_read = (\n",
    "            diagram.GetOutputPort(\"camera0_depth_image\").Eval(context).data.squeeze()\n",
    "        )\n",
    "        self.depth_im = deepcopy(self.depth_im_read)\n",
    "        self.depth_im[self.depth_im == np.inf] = 10.0\n",
    "        label_im = (\n",
    "            diagram.GetOutputPort(\"camera0_label_image\").Eval(context).data.squeeze()\n",
    "        )\n",
    "        self.rgb_im = diagram.GetOutputPort(\"camera0_rgb_image\").Eval(context).data\n",
    "        self.mask = label_im == 1\n",
    "\n",
    "        # draw visualization\n",
    "        meshcat.SetObject(\"point_cloud\", self.point_cloud)\n",
    "        diagram.ForcedPublish(context)\n",
    "\n",
    "        # camera specs\n",
    "        cam0 = diagram.GetSubsystemByName(\"camera0\")\n",
    "        cam0_context = cam0.GetMyMutableContextFromRoot(context)\n",
    "        self.X_WC = cam0.GetOutputPort(\"body_pose_in_world\").Eval(cam0_context)\n",
    "        self.X_WC = RigidTransform(self.X_WC)  # See drake issue #15973\n",
    "        self.cam_info = cam0.default_depth_render_camera().core().intrinsics()\n",
    "\n",
    "        # get points for mustard bottle\n",
    "        depth_mustard = self.mask * self.depth_im\n",
    "        u_range = np.arange(depth_mustard.shape[0])\n",
    "        v_range = np.arange(depth_mustard.shape[1])\n",
    "        depth_v, depth_u = np.meshgrid(v_range, u_range)\n",
    "        depth_pnts = np.dstack([depth_u, depth_v, depth_mustard])\n",
    "        depth_pnts = depth_pnts.reshape([depth_pnts.shape[0] * depth_pnts.shape[1], 3])\n",
    "        pC = self.project_depth_to_pC(depth_pnts)\n",
    "        p_C_mustard = pC[pC[:, 2] > 0]\n",
    "        self.p_W_mustard = self.X_WC.multiply(p_C_mustard.T).T\n",
    "\n",
    "    def get_color_image(self):\n",
    "        return deepcopy(self.rgb_im[:, :, 0:3])\n",
    "\n",
    "    def get_intrinsics(self):\n",
    "        # read camera intrinsics\n",
    "        cx = self.cam_info.center_x()\n",
    "        cy = self.cam_info.center_y()\n",
    "        fx = self.cam_info.focal_x()\n",
    "        fy = self.cam_info.focal_y()\n",
    "        return cx, cy, fx, fy\n",
    "\n",
    "    def project_depth_to_pC(self, depth_pixel):\n",
    "        \"\"\"\n",
    "        project depth pixels to points in camera frame\n",
    "        using pinhole camera model\n",
    "        Input:\n",
    "            depth_pixels: numpy array of (nx3) or (3,)\n",
    "        Output:\n",
    "            pC: 3D point in camera frame, numpy array of (nx3)\n",
    "        \"\"\"\n",
    "        # switch u,v due to python convention\n",
    "        v = depth_pixel[:, 0]\n",
    "        u = depth_pixel[:, 1]\n",
    "        Z = depth_pixel[:, 2]\n",
    "        cx, cy, fx, fy = self.get_intrinsics()\n",
    "        X = (u - cx) * Z / fx\n",
    "        Y = (v - cy) * Z / fy\n",
    "        pC = np.c_[X, Y, Z]\n",
    "        return pC\n",
    "\n",
    "\n",
    "def bbox(img):\n",
    "    a = np.where(img != 0)\n",
    "    bbox = ([np.min(a[0]), np.max(a[0])], [np.min(a[1]), np.max(a[1])])\n",
    "    return bbox\n",
    "\n",
    "meshcat.Delete()\n",
    "env = SimpleCameraSystem()\n",
    "X_WC = env.X_WC\n",
    "p_W_mustard = env.p_W_mustard\n",
    "K = env.cam_info.intrinsic_matrix()\n",
    "rgb_im = env.get_color_image()"
   ]
  },
  {
   "cell_type": "code",
   "execution_count": 242,
   "metadata": {},
   "outputs": [],
   "source": [
    "def deproject_pW_to_image(p_W_mustard, cx, cy, fx, fy, X_WC):\n",
    "    \"\"\"\n",
    "    convert points in the world frame to camera pixels\n",
    "    Input:\n",
    "        - p_W_mustard: points of the mustard bottle in world frame (nx3)\n",
    "        - fx, fy, cx, cy: camera intrinsics\n",
    "        - X_WC: camera pose in the world frame\n",
    "    Output:\n",
    "        - mask: numpy array of size 480x640\n",
    "    \"\"\"\n",
    "    # Transfer bottle to camera frame\n",
    "    p_C_mustard = X_WC.inverse().multiply(p_W_mustard.T).T\n",
    "    X_c = p_C_mustard[:, 0]\n",
    "    Y_c = p_C_mustard[:, 1]\n",
    "    Z_c = p_C_mustard[:, 2]\n",
    "\n",
    "    # Deproject onto image plane\n",
    "    u = (X_c / Z_c) * fx + cx\n",
    "    v = (Y_c / Z_c) * fy + cy\n",
    "\n",
    "    # Convert to integer pixel coordinates\n",
    "    u = np.round(u).astype(int)\n",
    "    v = np.round(v).astype(int)\n",
    "\n",
    "    # Create an empty mask\n",
    "    depth_image_shape = [480, 640]\n",
    "    mask = np.zeros(depth_image_shape, dtype=np.uint8)\n",
    "    \n",
    "    # Filter points that lie within image boundaries\n",
    "    valid_indices = (u >= 0) & (u < depth_image_shape[1]) & (v >= 0) & (v < depth_image_shape[0])\n",
    "    u = u[valid_indices]\n",
    "    v = v[valid_indices]\n",
    "    \n",
    "    # Set mask pixels corresponding to the mustard bottle to 1\n",
    "    mask[v, u] = 1\n",
    "    \n",
    "    return mask"
   ]
  },
  {
   "cell_type": "code",
   "execution_count": 269,
   "metadata": {},
   "outputs": [
    {
     "data": {
      "text/plain": [
       "<matplotlib.image.AxesImage at 0x37f6f3110>"
      ]
     },
     "execution_count": 269,
     "metadata": {},
     "output_type": "execute_result"
    },
    {
     "data": {
      "image/png": "[encoded data removed]",
      "text/plain": [
       "<Figure size 640x480 with 1 Axes>"
      ]
     },
     "metadata": {},
     "output_type": "display_data"
    }
   ],
   "source": [
    "plt.imshow(rgb_im)"
   ]
  },
  {
   "cell_type": "code",
   "execution_count": 270,
   "metadata": {},
   "outputs": [
    {
     "data": {
      "text/plain": [
       "<matplotlib.image.AxesImage at 0x3a94774a0>"
      ]
     },
     "execution_count": 270,
     "metadata": {},
     "output_type": "execute_result"
    },
    {
     "data": {
      "image/png": "[encoded data removed]",
      "text/plain": [
       "<Figure size 640x480 with 1 Axes>"
      ]
     },
     "metadata": {},
     "output_type": "display_data"
    }
   ],
   "source": [
    "cx, cy, fx, fy = env.get_intrinsics()\n",
    "mask = deproject_pW_to_image(p_W_mustard, cx, cy, fx, fy, X_WC)\n",
    "plt.imshow(mask)"
   ]
  },
  {
   "cell_type": "code",
   "execution_count": null,
   "metadata": {},
   "outputs": [],
   "source": [
    "! pip3 install keras\n",
    "! pip3 install tensorflow"
   ]
  },
  {
   "cell_type": "code",
   "execution_count": 273,
   "metadata": {},
   "outputs": [
    {
     "data": {
      "text/plain": [
       "<matplotlib.image.AxesImage at 0x3a94dff80>"
      ]
     },
     "execution_count": 273,
     "metadata": {},
     "output_type": "execute_result"
    },
    {
     "data": {
      "image/png": "[encoded data removed]",
      "text/plain": [
       "<Figure size 640x480 with 1 Axes>"
      ]
     },
     "metadata": {},
     "output_type": "display_data"
    }
   ],
   "source": [
    "# Importing necessary functions\n",
    "import os\n",
    "from PIL import Image\n",
    "import json\n",
    "from tensorflow.keras.preprocessing.image import ImageDataGenerator\n",
    "from tensorflow.keras.utils import array_to_img, img_to_array, load_img\n",
    "  \n",
    "# Initialising the ImageDataGenerator class.\n",
    "# We will pass in the augmentation parameters in the constructor.\n",
    "datagen = ImageDataGenerator(\n",
    "        rotation_range = 180,\n",
    "        zoom_range = 0.2,\n",
    "        horizontal_flip = True,\n",
    "        brightness_range = (0.5, 1.5))\n",
    "   \n",
    "# Loading a sample image \n",
    "img = np.concatenate([rgb_im, np.reshape(mask, [480, 640, 1])], axis=2)\n",
    "\n",
    "# Converting the input sample image to an array\n",
    "x = img_to_array(img)\n",
    "  \n",
    "# Generating and saving 5 augmented samples \n",
    "# using the above defined parameters. \n",
    "num_of_training = 119\n",
    "save_to_dir = \"./ball_training\"\n",
    "for i in range(num_of_training):\n",
    "    transformed = datagen.random_transform(x)\n",
    "    rgb_new = transformed[:, :, :3]\n",
    "    mask_new = transformed[:, :, 3]\n",
    "    base = 10179\n",
    "    label = {\"2\": \"012_ball\"}\n",
    "    img = Image.fromarray(rgb_new.astype('uint8'))\n",
    "    img.save(os.path.join(save_to_dir, f\"{base + i}.png\"))\n",
    "    np.save(os.path.join(save_to_dir, f\"{base + i}_mask.npy\"), mask_new)\n",
    "    with open(os.path.join(save_to_dir, f\"{base + i}.json\"), \"w\") as outfile:\n",
    "        json.dump(label, outfile) \n",
    "\n",
    "plt.imshow(mask_new)\n"
   ]
  },
  {
   "cell_type": "code",
   "execution_count": 272,
   "metadata": {},
   "outputs": [
    {
     "data": {
      "text/plain": [
       "<matplotlib.image.AxesImage at 0x37f69fc80>"
      ]
     },
     "execution_count": 272,
     "metadata": {},
     "output_type": "execute_result"
    },
    {
     "data": {
      "image/png": "[encoded data removed]",
      "text/plain": [
       "<Figure size 640x480 with 1 Axes>"
      ]
     },
     "metadata": {},
     "output_type": "display_data"
    }
   ],
   "source": [
    "plt.imshow(np.squeeze(np.load(os.path.join(save_to_dir, f\"{base + 117}_mask.npy\"))))"
   ]
  },
  {
   "cell_type": "code",
   "execution_count": null,
   "metadata": {},
   "outputs": [],
   "source": []
  }
 ],
 "metadata": {
  "kernelspec": {
   "display_name": "Python 3",
   "language": "python",
   "name": "python3"
  },
  "language_info": {
   "codemirror_mode": {
    "name": "ipython",
    "version": 3
   },
   "file_extension": ".py",
   "mimetype": "text/x-python",
   "name": "python",
   "nbconvert_exporter": "python",
   "pygments_lexer": "ipython3",
   "version": "3.12.4"
  }
 },
 "nbformat": 4,
 "nbformat_minor": 2
}
